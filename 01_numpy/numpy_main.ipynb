{
 "cells": [
  {
   "cell_type": "markdown",
   "metadata": {},
   "source": [
    "## Manipulation"
   ]
  },
  {
   "cell_type": "code",
   "execution_count": 2,
   "metadata": {},
   "outputs": [
    {
     "data": {
      "text/plain": [
       "(3, 3, 2)"
      ]
     },
     "execution_count": 2,
     "metadata": {},
     "output_type": "execute_result"
    }
   ],
   "source": [
    "import numpy as np\n",
    "\n",
    "# dstack like padding the same pos element together\n",
    "a = np.random.randn(3, 3)\n",
    "b = np.random.randn(3, 3)\n",
    "\n",
    "c = np.dstack((a, b))\n",
    "c.shape"
   ]
  },
  {
   "cell_type": "code",
   "execution_count": 3,
   "metadata": {},
   "outputs": [
    {
     "data": {
      "text/plain": [
       "['vstack : (2, 32, 64, 64)',\n",
       " 'hstack : (1, 64, 64, 64)',\n",
       " 'dstack : (1, 32, 128, 64)']"
      ]
     },
     "execution_count": 3,
     "metadata": {},
     "output_type": "execute_result"
    }
   ],
   "source": [
    "# if the ndim > 2 then how the vstack and hstack work?\n",
    "a = np.random.randn(1, 32, 64, 64)\n",
    "b = np.random.randn(1, 32, 64, 64)\n",
    "\n",
    "[f\"{func.__name__} : {func((a,b)).shape}\"  for func in (np.vstack, np.hstack, np.dstack)]"
   ]
  },
  {
   "cell_type": "code",
   "execution_count": 4,
   "metadata": {},
   "outputs": [
    {
     "data": {
      "text/plain": [
       "(1, 32, 64, 128)"
      ]
     },
     "execution_count": 4,
     "metadata": {},
     "output_type": "execute_result"
    }
   ],
   "source": [
    "# we found that the (v, h, d) actually work in three different dimensions\n",
    "# while we can use the concatenate to work on the last axis\n",
    "np.concatenate((a, b), axis=3).shape"
   ]
  },
  {
   "cell_type": "code",
   "execution_count": 5,
   "metadata": {},
   "outputs": [
    {
     "data": {
      "text/plain": [
       "(2, 1, 32, 64, 64)"
      ]
     },
     "execution_count": 5,
     "metadata": {},
     "output_type": "execute_result"
    }
   ],
   "source": [
    "# concat is registered as 'concatenate'\n",
    "y = None\n",
    "np.concat((a, b), axis=-1, out=y)\n",
    "np.array(list((a, b))).shape"
   ]
  },
  {
   "cell_type": "code",
   "execution_count": 6,
   "metadata": {},
   "outputs": [
    {
     "data": {
      "text/plain": [
       "[(1, 1, 1, 1), (1, 1, 1, 1)]"
      ]
     },
     "execution_count": 6,
     "metadata": {},
     "output_type": "execute_result"
    }
   ],
   "source": [
    "# split\n",
    "[i.shape for i in np.vsplit(np.random.randn(2, 1, 1, 1), 2)]"
   ]
  },
  {
   "cell_type": "code",
   "execution_count": 7,
   "metadata": {},
   "outputs": [
    {
     "data": {
      "text/plain": [
       "[(1, 16, 64, 64), (1, 16, 64, 64)]"
      ]
     },
     "execution_count": 7,
     "metadata": {},
     "output_type": "execute_result"
    }
   ],
   "source": [
    "[i.shape for i in np.hsplit(a, 2)]"
   ]
  },
  {
   "cell_type": "code",
   "execution_count": 8,
   "metadata": {},
   "outputs": [
    {
     "data": {
      "text/plain": [
       "[(1, 32, 64, 16), (1, 32, 64, 16), (1, 32, 64, 16), (1, 32, 64, 16)]"
      ]
     },
     "execution_count": 8,
     "metadata": {},
     "output_type": "execute_result"
    }
   ],
   "source": [
    "[i.shape for i in np.split(a, 4, axis=3)]"
   ]
  },
  {
   "cell_type": "code",
   "execution_count": 9,
   "metadata": {},
   "outputs": [
    {
     "data": {
      "text/plain": [
       "[(1, 32, 16, 64), (1, 32, 16, 64), (1, 32, 32, 64)]"
      ]
     },
     "execution_count": 9,
     "metadata": {},
     "output_type": "execute_result"
    }
   ],
   "source": [
    "# this received list means the span of each sublist\n",
    "[i.shape for i in np.split(a, [16, 32], axis=2)]"
   ]
  },
  {
   "cell_type": "code",
   "execution_count": 10,
   "metadata": {},
   "outputs": [
    {
     "data": {
      "text/plain": [
       "[(1, 32, 16, 64), (1, 32, 16, 64), (1, 32, 16, 64), (1, 32, 16, 64)]"
      ]
     },
     "execution_count": 10,
     "metadata": {},
     "output_type": "execute_result"
    }
   ],
   "source": [
    "[i.shape for i in np.dsplit(a, 4)]"
   ]
  },
  {
   "cell_type": "code",
   "execution_count": 11,
   "metadata": {},
   "outputs": [
    {
     "data": {
      "text/plain": [
       "(array([7, 2, 7, 7, 5, 6, 1, 5, 7, 1], dtype=int32),\n",
       " array([-5,  5,  0, -2,  1, -5,  4,  2, -6], dtype=int32),\n",
       " array([-0.71428571,  2.5       ,  0.        , -0.28571429,  0.2       ,\n",
       "        -0.83333333,  4.        ,  0.4       , -0.85714286]))"
      ]
     },
     "execution_count": 11,
     "metadata": {},
     "output_type": "execute_result"
    }
   ],
   "source": [
    "a = np.random.randint(1, 10, (10,))\n",
    "profit_prob = np.diff(a) / a[:-1]\n",
    "a, np.diff(a), profit_prob"
   ]
  },
  {
   "cell_type": "code",
   "execution_count": 12,
   "metadata": {},
   "outputs": [
    {
     "data": {
      "text/plain": [
       "(array([[ True, False, False],\n",
       "        [ True,  True, False],\n",
       "        [False, False,  True]]),\n",
       " array([0.67704199, 1.95520266, 0.72595789, 1.69943277]))"
      ]
     },
     "execution_count": 12,
     "metadata": {},
     "output_type": "execute_result"
    }
   ],
   "source": [
    "d = np.random.randn(3, 3)\n",
    "d > 0.5, d[d > 0.5]\n",
    "# d.compress(d > 0.5), np.where(d > 0.5)"
   ]
  },
  {
   "cell_type": "markdown",
   "metadata": {},
   "source": [
    "## Calculation"
   ]
  },
  {
   "cell_type": "code",
   "execution_count": 16,
   "metadata": {},
   "outputs": [
    {
     "data": {
      "text/plain": [
       "(array([[4, 4, 3],\n",
       "        [1, 3, 3],\n",
       "        [1, 1, 2]], dtype=int32),\n",
       " array([[2, 1, 2]], dtype=int32),\n",
       " array([[6, 5, 5],\n",
       "        [3, 4, 5],\n",
       "        [3, 2, 4]], dtype=int32))"
      ]
     },
     "execution_count": 16,
     "metadata": {},
     "output_type": "execute_result"
    }
   ],
   "source": [
    "# broadcast\n",
    "import numpy as np\n",
    "\n",
    "a = np.random.randint(1, 5, (3, 3))\n",
    "b = np.random.randint(1, 3, (1, 3))\n",
    "\n",
    "a, b, a + b"
   ]
  }
 ],
 "metadata": {
  "kernelspec": {
   "display_name": "psc",
   "language": "python",
   "name": "python3"
  },
  "language_info": {
   "codemirror_mode": {
    "name": "ipython",
    "version": 3
   },
   "file_extension": ".py",
   "mimetype": "text/x-python",
   "name": "python",
   "nbconvert_exporter": "python",
   "pygments_lexer": "ipython3",
   "version": "3.11.9"
  }
 },
 "nbformat": 4,
 "nbformat_minor": 2
}
