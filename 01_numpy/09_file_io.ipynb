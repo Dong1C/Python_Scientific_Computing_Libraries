{
 "cells": [
  {
   "cell_type": "code",
   "execution_count": 2,
   "metadata": {},
   "outputs": [
    {
     "name": "stdout",
     "output_type": "stream",
     "text": [
      "Array saved to array.txt\n",
      "Loaded array from array.txt:\n",
      " [[1. 2. 3.]\n",
      " [4. 5. 6.]]\n"
     ]
    }
   ],
   "source": [
    "# NumPy File I/O\n",
    "\n",
    "import numpy as np\n",
    "\n",
    "# Array creation\n",
    "a = np.array([[1, 2, 3], [4, 5, 6]])\n",
    "\n",
    "# Save array to a text file\n",
    "np.savetxt(\"array.txt\", a)\n",
    "print(\"Array saved to array.txt\")\n",
    "\n",
    "# Load array from a text file\n",
    "loaded_array = np.loadtxt(\"array.txt\")\n",
    "print(\"Loaded array from array.txt:\\n\", loaded_array)\n"
   ]
  },
  {
   "cell_type": "code",
   "execution_count": 8,
   "metadata": {},
   "outputs": [
    {
     "name": "stdout",
     "output_type": "stream",
     "text": [
      "Array saved to array.npy\n",
      "Loaded array from array.npy:\n",
      " [[1 2 3]\n",
      " [4 5 6]]\n"
     ]
    }
   ],
   "source": [
    "# the npy will just store one array\n",
    "# Save array to a binary file\n",
    "np.save(\"array.npy\", a)\n",
    "print(\"Array saved to array.npy\")\n",
    "\n",
    "# Load array from a binary file\n",
    "loaded_binary_array = np.load(\"array.npy\")\n",
    "print(\"Loaded array from array.npy:\\n\", loaded_binary_array)"
   ]
  },
  {
   "cell_type": "code",
   "execution_count": 9,
   "metadata": {},
   "outputs": [
    {
     "name": "stdout",
     "output_type": "stream",
     "text": [
      "Arrays saved to arrays.npz\n",
      "Loaded arrays from arrays.npz:\n",
      "NpzFile 'arrays.npz' with keys: arr_0, arr_1, arr_2, arr_3, arr_4\n",
      "arr_0 [[1 1 1]\n",
      " [1 1 1]]\n",
      "arr_1 [[1 2 3]\n",
      " [4 5 6]]\n",
      "arr_2 [[ 1  4  9]\n",
      " [16 25 36]]\n",
      "arr_3 [[  1   8  27]\n",
      " [ 64 125 216]]\n",
      "arr_4 [[   1   16   81]\n",
      " [ 256  625 1296]]\n"
     ]
    }
   ],
   "source": [
    "# Save multiple arrays to a compressed file\n",
    "np.savez(\"arrays.npz\", *[a**i for i in range(5)])\n",
    "print(\"Arrays saved to arrays.npz\")\n",
    "\n",
    "# Load multiple arrays from a compressed file\n",
    "loaded_arrays = np.load(\"arrays.npz\")\n",
    "print(\"Loaded arrays from arrays.npz:\")\n",
    "print(loaded_arrays)\n",
    "for i,j in loaded_arrays.items():\n",
    "    print(i, j)"
   ]
  },
  {
   "cell_type": "code",
   "execution_count": null,
   "metadata": {},
   "outputs": [],
   "source": []
  }
 ],
 "metadata": {
  "kernelspec": {
   "display_name": "psc",
   "language": "python",
   "name": "python3"
  },
  "language_info": {
   "codemirror_mode": {
    "name": "ipython",
    "version": 3
   },
   "file_extension": ".py",
   "mimetype": "text/x-python",
   "name": "python",
   "nbconvert_exporter": "python",
   "pygments_lexer": "ipython3",
   "version": "3.11.9"
  }
 },
 "nbformat": 4,
 "nbformat_minor": 2
}
