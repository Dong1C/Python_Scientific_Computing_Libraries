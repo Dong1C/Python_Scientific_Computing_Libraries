{
 "cells": [
  {
   "cell_type": "code",
   "execution_count": 15,
   "metadata": {},
   "outputs": [
    {
     "name": "stdout",
     "output_type": "stream",
     "text": [
      "Array: [1 2 3]\n",
      "Zeros: [[0. 0. 0.]\n",
      " [0. 0. 0.]\n",
      " [0. 0. 0.]]\n",
      "Ones: [[1. 1.]\n",
      " [1. 1.]]\n",
      "Eye: [[1. 0. 0.]\n",
      " [0. 1. 0.]\n",
      " [0. 0. 1.]]\n",
      "Identity: [[1. 0. 0. 0.]\n",
      " [0. 1. 0. 0.]\n",
      " [0. 0. 1. 0.]\n",
      " [0. 0. 0. 1.]]\n"
     ]
    }
   ],
   "source": [
    "# NumPy Array Creation\n",
    "\n",
    "import numpy as np\n",
    "\n",
    "# Creating arrays \n",
    "# try adding the suffix _like after the functions below\n",
    "array = np.array([1, 2, 3])\n",
    "zeros = np.zeros((3, 3))\n",
    "ones = np.ones((2, 2))\n",
    "full = np.full((2, 3), 7)\n",
    "empty = np.empty((2, 2))\n",
    "\n",
    "\n",
    "# Displaying arrays\n",
    "print(\"Array:\", array)\n",
    "print(\"Zeros:\", zeros)\n",
    "print(\"Ones:\", ones)\n",
    "\n",
    "# create the identity\n",
    "eye = np.eye(3)\n",
    "identity = np.identity(4)\n",
    "print(\"Eye:\", eye)\n",
    "print(\"Identity:\", identity)"
   ]
  },
  {
   "cell_type": "code",
   "execution_count": 12,
   "metadata": {},
   "outputs": [
    {
     "name": "stdout",
     "output_type": "stream",
     "text": [
      "Arange: [0 2 4 6 8]\n",
      "Linspace: [0.   0.25 0.5  0.75 1.  ]\n",
      "Logspace: [1.02400000e+03 1.09951163e+12 1.18059162e+21 1.26765060e+30]\n"
     ]
    }
   ],
   "source": [
    "# linspace split the interval according to the step\n",
    "# but arange just specify the step\n",
    "arange = np.arange(0, 10, 2)\n",
    "linspace = np.linspace(0, 1, 5)\n",
    "logspace = np.logspace(start=10, stop=100, num=4, endpoint=True, base=2)\n",
    "\n",
    "print(\"Arange:\", arange)\n",
    "print(\"Linspace:\", linspace)\n",
    "print(\"Logspace:\", logspace)"
   ]
  },
  {
   "cell_type": "code",
   "execution_count": 14,
   "metadata": {},
   "outputs": [
    {
     "data": {
      "text/plain": [
       "array([1.02400000e+03, 1.09951163e+12, 1.18059162e+21, 1.26765060e+30])"
      ]
     },
     "execution_count": 14,
     "metadata": {},
     "output_type": "execute_result"
    }
   ],
   "source": [
    "# so we can find that the logspace \n",
    "# is just the base ** linspace with same params\n",
    "2 ** np.linspace(10, 100, 4, endpoint=True)"
   ]
  }
 ],
 "metadata": {
  "kernelspec": {
   "display_name": "psc",
   "language": "python",
   "name": "python3"
  },
  "language_info": {
   "codemirror_mode": {
    "name": "ipython",
    "version": 3
   },
   "file_extension": ".py",
   "mimetype": "text/x-python",
   "name": "python",
   "nbconvert_exporter": "python",
   "pygments_lexer": "ipython3",
   "version": "3.11.9"
  }
 },
 "nbformat": 4,
 "nbformat_minor": 2
}
