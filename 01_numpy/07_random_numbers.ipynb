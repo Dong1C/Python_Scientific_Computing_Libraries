{
 "cells": [
  {
   "cell_type": "code",
   "execution_count": 2,
   "metadata": {},
   "outputs": [
    {
     "name": "stdout",
     "output_type": "stream",
     "text": [
      "Uniform distribution:\n",
      " [[0.5488135  0.71518937 0.60276338]\n",
      " [0.54488318 0.4236548  0.64589411]\n",
      " [0.43758721 0.891773   0.96366276]]\n",
      "Standard normal distribution:\n",
      " [[ 1.26611853 -0.50587654  2.54520078]\n",
      " [ 1.08081191  0.48431215  0.57914048]\n",
      " [-0.18158257  1.41020463 -0.37447169]]\n",
      "Random integers:\n",
      " [[0 1 9]\n",
      " [9 0 4]\n",
      " [7 3 2]]\n",
      "Random choice: [5 3 1]\n",
      "Random numbers with seed 42:\n",
      " [[0.37454012 0.95071431 0.73199394]\n",
      " [0.59865848 0.15601864 0.15599452]\n",
      " [0.05808361 0.86617615 0.60111501]]\n"
     ]
    }
   ],
   "source": [
    "# All these operations is based on the manipulation of the data\n",
    "import numpy as np\n",
    "\n",
    "# Random seed\n",
    "np.random.seed(0)\n",
    "\n",
    "# Uniform distribution\n",
    "print(\"Uniform distribution:\\n\", np.random.rand(3, 3))\n",
    "\n",
    "# Standard normal distribution\n",
    "print(\"Standard normal distribution:\\n\", np.random.randn(3, 3))\n",
    "\n",
    "# Random integers\n",
    "print(\"Random integers:\\n\", np.random.randint(0, 10, (3, 3)))\n",
    "\n",
    "# Random choice\n",
    "print(\"Random choice:\", np.random.choice([1, 2, 3, 4, 5], size=3))\n",
    "\n",
    "# Set random seed\n",
    "np.random.seed(42)\n",
    "print(\"Random numbers with seed 42:\\n\", np.random.rand(3, 3))\n"
   ]
  },
  {
   "cell_type": "code",
   "execution_count": null,
   "metadata": {},
   "outputs": [],
   "source": []
  }
 ],
 "metadata": {
  "kernelspec": {
   "display_name": "psc",
   "language": "python",
   "name": "python3"
  },
  "language_info": {
   "codemirror_mode": {
    "name": "ipython",
    "version": 3
   },
   "file_extension": ".py",
   "mimetype": "text/x-python",
   "name": "python",
   "nbconvert_exporter": "python",
   "pygments_lexer": "ipython3",
   "version": "3.11.9"
  }
 },
 "nbformat": 4,
 "nbformat_minor": 2
}
