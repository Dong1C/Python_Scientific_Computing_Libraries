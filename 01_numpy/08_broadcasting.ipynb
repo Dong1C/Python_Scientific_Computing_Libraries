{
 "cells": [
  {
   "cell_type": "code",
   "execution_count": 1,
   "metadata": {},
   "outputs": [
    {
     "name": "stdout",
     "output_type": "stream",
     "text": [
      "Broadcasting addition:\n",
      " [[2 3 4]\n",
      " [3 4 5]\n",
      " [4 5 6]]\n",
      "Broadcasting multiplication:\n",
      " [[1 2 3]\n",
      " [2 4 6]\n",
      " [3 6 9]]\n",
      "Broadcasted array:\n",
      " [[1 2 3]\n",
      " [1 2 3]\n",
      " [1 2 3]]\n",
      "Broadcasted arrays:\n",
      " [[1 2 3]\n",
      " [1 2 3]\n",
      " [1 2 3]] [[1 1 1]\n",
      " [2 2 2]\n",
      " [3 3 3]]\n"
     ]
    }
   ],
   "source": [
    "# NumPy Broadcasting\n",
    "import numpy as np\n",
    "\n",
    "# Array creation\n",
    "a = np.array([1, 2, 3])\n",
    "b = np.array([[1], [2], [3]])\n",
    "\n",
    "# Broadcasting addition\n",
    "print(\"Broadcasting addition:\\n\", a + b)\n",
    "\n",
    "# Broadcasting multiplication\n",
    "print(\"Broadcasting multiplication:\\n\", a * b)\n",
    "\n",
    "# Broadcasting to a new shape\n",
    "c = np.broadcast_to(a, (3, 3))\n",
    "print(\"Broadcasted array:\\n\", c)\n",
    "\n",
    "# Broadcasting arrays\n",
    "d, e = np.broadcast_arrays(a, b)\n",
    "print(\"Broadcasted arrays:\\n\", d, e)\n"
   ]
  },
  {
   "cell_type": "code",
   "execution_count": null,
   "metadata": {},
   "outputs": [],
   "source": [
    "x"
   ]
  }
 ],
 "metadata": {
  "kernelspec": {
   "display_name": "psc",
   "language": "python",
   "name": "python3"
  },
  "language_info": {
   "codemirror_mode": {
    "name": "ipython",
    "version": 3
   },
   "file_extension": ".py",
   "mimetype": "text/x-python",
   "name": "python",
   "nbconvert_exporter": "python",
   "pygments_lexer": "ipython3",
   "version": "3.11.9"
  }
 },
 "nbformat": 4,
 "nbformat_minor": 2
}
