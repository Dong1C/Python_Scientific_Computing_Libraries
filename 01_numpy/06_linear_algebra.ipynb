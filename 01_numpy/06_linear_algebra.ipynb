{
 "cells": [
  {
   "cell_type": "code",
   "execution_count": 1,
   "metadata": {},
   "outputs": [
    {
     "name": "stdout",
     "output_type": "stream",
     "text": [
      "Dot product:\n",
      " [[19 22]\n",
      " [43 50]]\n",
      "Matrix multiplication:\n",
      " [[19 22]\n",
      " [43 50]]\n",
      "Determinant: -2.0000000000000004\n",
      "Inverse:\n",
      " [[-2.   1. ]\n",
      " [ 1.5 -0.5]]\n",
      "Eigenvalues: [-0.37228132  5.37228132]\n",
      "Eigenvectors:\n",
      " [[-0.82456484 -0.41597356]\n",
      " [ 0.56576746 -0.90937671]]\n",
      "U:\n",
      " [[-0.40455358 -0.9145143 ]\n",
      " [-0.9145143   0.40455358]]\n",
      "Singular values: [5.4649857  0.36596619]\n",
      "V:\n",
      " [[-0.57604844 -0.81741556]\n",
      " [ 0.81741556 -0.57604844]]\n"
     ]
    }
   ],
   "source": [
    "# NumPy Linear Algebra\n",
    "\n",
    "import numpy as np\n",
    "\n",
    "# Array creation\n",
    "a = np.array([[1, 2], [3, 4]])\n",
    "b = np.array([[5, 6], [7, 8]])\n",
    "\n",
    "# Dot product\n",
    "print(\"Dot product:\\n\", np.dot(a, b))\n",
    "\n",
    "# Matrix multiplication\n",
    "print(\"Matrix multiplication:\\n\", np.matmul(a, b))\n",
    "\n",
    "# Determinant\n",
    "print(\"Determinant:\", np.linalg.det(a))\n",
    "\n",
    "# Inverse\n",
    "print(\"Inverse:\\n\", np.linalg.inv(a))\n",
    "\n",
    "# Eigenvalues and eigenvectors\n",
    "eigvals, eigvecs = np.linalg.eig(a)\n",
    "print(\"Eigenvalues:\", eigvals)\n",
    "print(\"Eigenvectors:\\n\", eigvecs)\n",
    "\n"
   ]
  },
  {
   "cell_type": "code",
   "execution_count": 14,
   "metadata": {},
   "outputs": [
    {
     "data": {
      "text/plain": [
       "(array([[ 0.30697009, -2.23472698],\n",
       "        [-0.21062466, -4.88542751]]),\n",
       " array([[ 0.30697009, -2.23472698],\n",
       "        [-0.21062466, -4.88542751]]))"
      ]
     },
     "execution_count": 14,
     "metadata": {},
     "output_type": "execute_result"
    }
   ],
   "source": [
    "# A @ eigenvecs == eigenvals @ eigenvecs\n",
    "# a @ eigvecs[:, 1], eigvals[1] * eigvecs[:, 1]\n",
    "a @ eigvecs, eigvals * eigvecs \n",
    "# a @ eigvecs == eigvals * eigvecs "
   ]
  },
  {
   "cell_type": "code",
   "execution_count": 17,
   "metadata": {},
   "outputs": [
    {
     "name": "stdout",
     "output_type": "stream",
     "text": [
      "U:\n",
      " [[-0.33809817  0.84795222  0.40824829]\n",
      " [-0.55064932  0.17354729 -0.81649658]\n",
      " [-0.76320047 -0.50085764  0.40824829]]\n",
      "Singular values: [6.54675564 0.37415323]\n",
      "V:\n",
      " [[-0.56959484 -0.82192562]\n",
      " [-0.82192562  0.56959484]]\n"
     ]
    },
    {
     "data": {
      "text/plain": [
       "array([[-4.34828457, -0.12871079],\n",
       "       [ 4.67281494, -0.01042282],\n",
       "       [ 1.45507084, -0.35116312]])"
      ]
     },
     "execution_count": 17,
     "metadata": {},
     "output_type": "execute_result"
    }
   ],
   "source": [
    "\"\"\"\n",
    "    U : mxm matrix\n",
    "    S : sigma values\n",
    "    V : nxn matrix\n",
    "\"\"\"\n",
    "# Singular Value Decomposition (SVD)\n",
    "a2SVD = np.array([[1, 2], [2, 3], [3, 4]])\n",
    "U, S, V = np.linalg.svd(a2SVD)\n",
    "print(\"U:\\n\", U)\n",
    "print(\"Singular values:\", S)\n",
    "print(\"V:\\n\", V)\n",
    "\n",
    "U @ a2SVD @ V"
   ]
  },
  {
   "cell_type": "code",
   "execution_count": null,
   "metadata": {},
   "outputs": [],
   "source": []
  }
 ],
 "metadata": {
  "kernelspec": {
   "display_name": "psc",
   "language": "python",
   "name": "python3"
  },
  "language_info": {
   "codemirror_mode": {
    "name": "ipython",
    "version": 3
   },
   "file_extension": ".py",
   "mimetype": "text/x-python",
   "name": "python",
   "nbconvert_exporter": "python",
   "pygments_lexer": "ipython3",
   "version": "3.11.9"
  }
 },
 "nbformat": 4,
 "nbformat_minor": 2
}
