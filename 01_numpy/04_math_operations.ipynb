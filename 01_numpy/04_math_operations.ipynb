{
 "cells": [
  {
   "cell_type": "code",
   "execution_count": 1,
   "metadata": {},
   "outputs": [
    {
     "name": "stdout",
     "output_type": "stream",
     "text": [
      "Addition: [5 7 9]\n",
      "Subtraction: [-3 -3 -3]\n",
      "Multiplication: [ 4 10 18]\n",
      "Division: [0.25 0.4  0.5 ]\n",
      "Power: [1 4 9]\n",
      "Modulus: [0 1 0]\n",
      "Square root: [2.         2.23606798 2.44948974]\n",
      "Exponential: [ 2.71828183  7.3890561  20.08553692]\n",
      "Logarithm: [1.38629436 1.60943791 1.79175947]\n",
      "Log base 10: [0.60205999 0.69897    0.77815125]\n"
     ]
    }
   ],
   "source": [
    "# NumPy Mathematical Operations\n",
    "import numpy as np\n",
    "\n",
    "# Array creation\n",
    "a = np.array([1, 2, 3])\n",
    "b = np.array([4, 5, 6])\n",
    "\n",
    "# Addition\n",
    "print(\"Addition:\", np.add(a, b))\n",
    "\n",
    "# Subtraction\n",
    "print(\"Subtraction:\", np.subtract(a, b))\n",
    "\n",
    "# Multiplication\n",
    "print(\"Multiplication:\", np.multiply(a, b))\n",
    "\n",
    "# Division\n",
    "print(\"Division:\", np.divide(a, b))\n",
    "\n",
    "# Power\n",
    "print(\"Power:\", np.power(a, 2))\n",
    "\n",
    "# Modulus\n",
    "print(\"Modulus:\", np.mod(b, 2))\n",
    "\n",
    "# Square root\n",
    "print(\"Square root:\", np.sqrt(b))\n",
    "\n",
    "# Exponential\n",
    "print(\"Exponential:\", np.exp(a))\n",
    "\n",
    "# Logarithm\n",
    "print(\"Logarithm:\", np.log(b))\n",
    "\n",
    "# Log base 10\n",
    "print(\"Log base 10:\", np.log10(b))\n"
   ]
  },
  {
   "cell_type": "code",
   "execution_count": 2,
   "metadata": {},
   "outputs": [
    {
     "name": "stdout",
     "output_type": "stream",
     "text": [
      "Sum of elements: 10\n",
      "Product of elements: 24\n"
     ]
    }
   ],
   "source": [
    "# features -- ufunc.reduce/at ...(very useful feature ...)\n",
    "a = np.array([1, 2, 3, 4])\n",
    "\n",
    "# Use reduce to sum elements\n",
    "sum_result = np.add.reduce(a)\n",
    "print(\"Sum of elements:\", sum_result)\n",
    "\n",
    "# Use reduce to find product of elements\n",
    "product_result = np.multiply.reduce(a)\n",
    "print(\"Product of elements:\", product_result)\n"
   ]
  },
  {
   "cell_type": "code",
   "execution_count": 3,
   "metadata": {},
   "outputs": [
    {
     "name": "stdout",
     "output_type": "stream",
     "text": [
      "Cumulative sum: [ 1  3  6 10]\n",
      "Cumulative product: [ 1  2  6 24]\n"
     ]
    }
   ],
   "source": [
    "# better use the ufunc to process the data\n",
    "a = np.array([1, 2, 3, 4])\n",
    "\n",
    "# Use accumulate to get cumulative sum\n",
    "cumulative_sum = np.add.accumulate(a)\n",
    "print(\"Cumulative sum:\", cumulative_sum)\n",
    "\n",
    "# Use accumulate to get cumulative product\n",
    "cumulative_product = np.multiply.accumulate(a)\n",
    "print(\"Cumulative product:\", cumulative_product)\n"
   ]
  },
  {
   "cell_type": "code",
   "execution_count": 10,
   "metadata": {},
   "outputs": [
    {
     "name": "stdout",
     "output_type": "stream",
     "text": [
      "original array after reshaping: [[ 0  1  2  3  4  5  6  7  8  9 10 11 12 13 14 15 16 17 18 19 20 21 22 23\n",
      "  24 25 26 27 28 29 30 31 32 33 34 35 36 37 38 39 40 41 42 43 44 45 46 47\n",
      "  48 49]\n",
      " [50 51 52 53 54 55 56 57 58 59 60 61 62 63 64 65 66 67 68 69 70 71 72 73\n",
      "  74 75 76 77 78 79 80 81 82 83 84 85 86 87 88 89 90 91 92 93 94 95 96 97\n",
      "  98 99]]\n",
      "Segmented sum using reduceat: [[  45  145   86  390  559]\n",
      " [ 545  645  286 1040 1209]]\n"
     ]
    }
   ],
   "source": [
    "# 1. give it the right meaning\n",
    "# 2. choose the dimension\n",
    "# 3. choose the points to cut\n",
    "a = np.arange(100).reshape(2, -1)\n",
    "print(\"original array after reshaping:\", a)\n",
    "result = np.add.reduceat(a, [0, 10, 20, 24, 37], axis=1)\n",
    "print(\"Segmented sum using reduceat:\", result)"
   ]
  },
  {
   "cell_type": "code",
   "execution_count": null,
   "metadata": {},
   "outputs": [],
   "source": []
  }
 ],
 "metadata": {
  "kernelspec": {
   "display_name": "psc",
   "language": "python",
   "name": "python3"
  },
  "language_info": {
   "codemirror_mode": {
    "name": "ipython",
    "version": 3
   },
   "file_extension": ".py",
   "mimetype": "text/x-python",
   "name": "python",
   "nbconvert_exporter": "python",
   "pygments_lexer": "ipython3",
   "version": "3.11.9"
  }
 },
 "nbformat": 4,
 "nbformat_minor": 2
}
