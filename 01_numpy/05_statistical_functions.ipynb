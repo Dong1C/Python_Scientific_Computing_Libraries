{
 "cells": [
  {
   "cell_type": "code",
   "execution_count": 2,
   "metadata": {},
   "outputs": [
    {
     "name": "stdout",
     "output_type": "stream",
     "text": [
      "Mean: 3.0\n",
      "Median: 3.0\n",
      "Standard Deviation: 1.4142135623730951\n",
      "Variance: 2.0\n",
      "Sum: 15\n",
      "Product: 120\n",
      "Min: 1\n",
      "Max: 5\n",
      "Cumulative Sum: [ 1  3  6 10 15]\n",
      "Cumulative Product: [  1   2   6  24 120]\n"
     ]
    }
   ],
   "source": [
    "# NumPy Statistical Functions\n",
    "import numpy as np\n",
    "\n",
    "# Array creation\n",
    "a = np.array([1, 2, 3, 4, 5])\n",
    "\n",
    "# Mean\n",
    "print(\"Mean:\", np.mean(a))\n",
    "\n",
    "# Median\n",
    "print(\"Median:\", np.median(a))\n",
    "\n",
    "# Standard deviation\n",
    "print(\"Standard Deviation:\", np.std(a))\n",
    "\n",
    "\n",
    "# Variance\n",
    "print(\"Variance:\", np.var(a))\n",
    "\n",
    "# Sum\n",
    "print(\"Sum:\", np.sum(a))\n",
    "\n",
    "# Product\n",
    "print(\"Product:\", np.prod(a))\n",
    "\n",
    "# Min\n",
    "print(\"Min:\", np.min(a))\n",
    "    \n",
    "# Max\n",
    "print(\"Max:\", np.max(a))\n",
    "\n",
    "# Cumulative sum\n",
    "print(\"Cumulative Sum:\", np.cumsum(a))\n",
    "\n",
    "# Cumulative product\n",
    "print(\"Cumulative Product:\", np.cumprod(a))\n",
    "\n"
   ]
  },
  {
   "cell_type": "code",
   "execution_count": 6,
   "metadata": {},
   "outputs": [
    {
     "data": {
      "text/plain": [
       "np.float64(2.0)"
      ]
     },
     "execution_count": 6,
     "metadata": {},
     "output_type": "execute_result"
    }
   ],
   "source": []
  }
 ],
 "metadata": {
  "kernelspec": {
   "display_name": "psc",
   "language": "python",
   "name": "python3"
  },
  "language_info": {
   "codemirror_mode": {
    "name": "ipython",
    "version": 3
   },
   "file_extension": ".py",
   "mimetype": "text/x-python",
   "name": "python",
   "nbconvert_exporter": "python",
   "pygments_lexer": "ipython3",
   "version": "3.11.9"
  }
 },
 "nbformat": 4,
 "nbformat_minor": 2
}
