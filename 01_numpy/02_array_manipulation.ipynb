{
 "cells": [
  {
   "cell_type": "code",
   "execution_count": 2,
   "metadata": {},
   "outputs": [
    {
     "name": "stdout",
     "output_type": "stream",
     "text": [
      "Original array:\n",
      " [[1 2 3]\n",
      " [4 5 6]]\n",
      "Reshaped array:\n",
      " [[1 2]\n",
      " [3 4]\n",
      " [5 6]]\n",
      "Transposed array:\n",
      " [[1 4]\n",
      " [2 5]\n",
      " [3 6]]\n",
      "Concatenated array:\n",
      " [[1 2 3]\n",
      " [4 5 6]\n",
      " [7 8 9]]\n",
      "Stacked array:\n",
      " [[[1 2 3]\n",
      "  [4 5 6]]\n",
      "\n",
      " [[1 2 3]\n",
      "  [4 5 6]]]\n",
      "Split array:\n",
      " [array([[1],\n",
      "       [4]]), array([[2],\n",
      "       [5]]), array([[3],\n",
      "       [6]])]\n"
     ]
    }
   ],
   "source": [
    "# NumPy Array Manipulation\n",
    "\n",
    "import numpy as np\n",
    "\n",
    "# Array creation\n",
    "a = np.array([[1, 2, 3], [4, 5, 6]])\n",
    "print(\"Original array:\\n\", a)\n",
    "\n",
    "# Reshaping\n",
    "reshaped = a.reshape((3, 2))\n",
    "print(\"Reshaped array:\\n\", reshaped)\n",
    "\n",
    "# Transpose\n",
    "transposed = a.transpose()\n",
    "print(\"Transposed array:\\n\", transposed)\n",
    "\n",
    "# Concatenation\n",
    "b = np.array([[7, 8, 9]])\n",
    "concatenated = np.concatenate((a, b), axis=0)\n",
    "print(\"Concatenated array:\\n\", concatenated)\n",
    "\n",
    "# Stacking(vtack, hstack, concatenate + axis-specified)\n",
    "stacked = np.stack((a, a))\n",
    "print(\"Stacked array:\\n\", stacked)\n",
    "\n",
    "# Splitting\n",
    "split = np.split(a, 3, axis=1)\n",
    "print(\"Split array:\\n\", split)\n"
   ]
  },
  {
   "cell_type": "code",
   "execution_count": 3,
   "metadata": {},
   "outputs": [
    {
     "name": "stdout",
     "output_type": "stream",
     "text": [
      "Original array (contiguous):\n",
      "[[1 2 3]\n",
      " [4 5 6]]\n",
      "Raveled array (contiguous):\n",
      "[1 2 3 4 5 6]\n",
      "\n",
      "Modified raveled array:\n",
      "[10  2  3  4  5  6]\n",
      "Original array after modification:\n",
      "[[10  2  3]\n",
      " [ 4  5  6]]\n",
      "\n",
      "Original array (non-contiguous):\n",
      "[[10  3]\n",
      " [ 4  6]]\n",
      "Raveled array (non-contiguous):\n",
      "[10  3  4  6]\n",
      "\n",
      "Modified raveled array:\n",
      "[20  3  4  6]\n",
      "Original array after modification:\n",
      "[[10  3]\n",
      " [ 4  6]]\n"
     ]
    }
   ],
   "source": [
    "# So ravel will return a reference if the ndarray is contiguous\n",
    "# otherwise return a copy with new data !!!  \n",
    "\n",
    "# Contiguous memory (C-order)\n",
    "a = np.array([[1, 2, 3], [4, 5, 6]])\n",
    "raveled_a = a.ravel()\n",
    "\n",
    "print(\"Original array (contiguous):\")\n",
    "print(a)\n",
    "print(\"Raveled array (contiguous):\")\n",
    "print(raveled_a)\n",
    "\n",
    "# Modify the raveled array and observe the original array\n",
    "raveled_a[0] = 10\n",
    "print(\"\\nModified raveled array:\")\n",
    "print(raveled_a)\n",
    "print(\"Original array after modification:\")\n",
    "print(a)\n",
    "\n",
    "# Non-contiguous memory (slice of array)\n",
    "b = a[:, ::2]\n",
    "raveled_b = b.ravel()\n",
    "\n",
    "print(\"\\nOriginal array (non-contiguous):\")\n",
    "print(b)\n",
    "print(\"Raveled array (non-contiguous):\")\n",
    "print(raveled_b)\n",
    "\n",
    "# Modify the raveled array and observe the original array\n",
    "raveled_b[0] = 20\n",
    "print(\"\\nModified raveled array:\")\n",
    "print(raveled_b)\n",
    "print(\"Original array after modification:\")\n",
    "print(b)\n"
   ]
  },
  {
   "cell_type": "code",
   "execution_count": null,
   "metadata": {},
   "outputs": [],
   "source": []
  }
 ],
 "metadata": {
  "kernelspec": {
   "display_name": "psc",
   "language": "python",
   "name": "python3"
  },
  "language_info": {
   "codemirror_mode": {
    "name": "ipython",
    "version": 3
   },
   "file_extension": ".py",
   "mimetype": "text/x-python",
   "name": "python",
   "nbconvert_exporter": "python",
   "pygments_lexer": "ipython3",
   "version": "3.11.9"
  }
 },
 "nbformat": 4,
 "nbformat_minor": 2
}
