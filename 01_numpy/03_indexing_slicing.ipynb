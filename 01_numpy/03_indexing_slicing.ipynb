{
 "cells": [
  {
   "cell_type": "code",
   "execution_count": 1,
   "metadata": {},
   "outputs": [
    {
     "name": "stdout",
     "output_type": "stream",
     "text": [
      "Element at index 2: 3\n",
      "Elements from index 1 to 4: [2 3 4]\n",
      "Elements at indices 0, 2, 4: [1 3 5]\n",
      "Elements greater than 3: [4 5 6]\n"
     ]
    }
   ],
   "source": [
    "# NumPy Indexing and Slicing\n",
    "\n",
    "import numpy as np\n",
    "\n",
    "# Array creation\n",
    "a = np.array([1, 2, 3, 4, 5])\n",
    "\n",
    "# Indexing\n",
    "print(\"Element at index 2:\", a[2])\n",
    "\n",
    "# Slicing\n",
    "print(\"Elements from index 1 to 4:\", a[1:4])\n",
    "\n",
    "# Fancy indexing\n",
    "b = np.array([1, 2, 3, 4, 5, 6])\n",
    "indices = [0, 2, 4]\n",
    "print(\"Elements at indices 0, 2, 4:\", b[indices])\n",
    "\n",
    "# Boolean indexing\n",
    "c = np.array([1, 2, 3, 4, 5, 6])\n",
    "print(\"Elements greater than 3:\", c[c > 3])\n"
   ]
  },
  {
   "cell_type": "code",
   "execution_count": 2,
   "metadata": {},
   "outputs": [
    {
     "name": "stdout",
     "output_type": "stream",
     "text": [
      "Indices of even numbers:\n",
      " (array([0, 0, 0, 1, 1, 2, 2, 2, 3, 3, 4, 4, 4]), array([0, 2, 4, 1, 3, 0, 2, 4, 1, 3, 0, 2, 4]))\n",
      "Even numbers:\n",
      " [ 0  2  4  6  8 10 12 14 16 18 20 22 24]\n"
     ]
    },
    {
     "data": {
      "text/plain": [
       "array([ 0,  2,  4,  6,  8, 10, 12, 14, 16, 18, 20, 22, 24])"
      ]
     },
     "execution_count": 2,
     "metadata": {},
     "output_type": "execute_result"
    }
   ],
   "source": [
    "matrix = np.arange(25).reshape(5, 5)\n",
    "\n",
    "# Find indices of even numbers\n",
    "indices = np.where(matrix % 2 == 0)\n",
    "print(\"Indices of even numbers:\\n\", indices)\n",
    "\n",
    "# Use these indices to get the elements\n",
    "even_numbers = matrix[indices]\n",
    "print(\"Even numbers:\\n\", even_numbers)\n",
    "\n",
    "matrix[matrix % 2 == 0]"
   ]
  },
  {
   "cell_type": "code",
   "execution_count": 3,
   "metadata": {},
   "outputs": [
    {
     "name": "stdout",
     "output_type": "stream",
     "text": [
      "Original array:\n",
      " [[[10  7 10]\n",
      "  [ 6  7  6]\n",
      "  [ 4  2  4]]\n",
      "\n",
      " [[ 4  7  7]\n",
      "  [10  3  9]\n",
      "  [ 2  3  5]]\n",
      "\n",
      " [[ 5  2  8]\n",
      "  [ 3  8  9]\n",
      "  [ 2  9  2]]]\n",
      "Modified array:\n",
      " [[[10 10 10]\n",
      "  [10 10 10]\n",
      "  [ 4  2  4]]\n",
      "\n",
      " [[ 4 10 10]\n",
      "  [10  3 10]\n",
      "  [ 2  3  5]]\n",
      "\n",
      " [[ 5  2 10]\n",
      "  [ 3 10 10]\n",
      "  [ 2 10  2]]]\n"
     ]
    }
   ],
   "source": [
    "array_3d = np.random.randint(0, 11, size=(3, 3, 3))\n",
    "\n",
    "# Replace values greater than 5 with 10\n",
    "new_array_3d = np.where(array_3d > 5, 10, array_3d)\n",
    "print(\"Original array:\\n\", array_3d)\n",
    "print(\"Modified array:\\n\", new_array_3d)"
   ]
  },
  {
   "cell_type": "code",
   "execution_count": 4,
   "metadata": {},
   "outputs": [
    {
     "name": "stdout",
     "output_type": "stream",
     "text": [
      "Masked array: [1 -- 3 -- 5]\n",
      "Data without masked elements: [1 3 5]\n"
     ]
    }
   ],
   "source": [
    "import numpy as np\n",
    "import numpy.ma as ma\n",
    "\n",
    "a = np.array([1, 2, 3, 4, 5])\n",
    "mask = [0, 1, 0, 1, 0]\n",
    "\n",
    "# Create a masked array (it's interesting cuz it can replace the data with the placeholder '--')\n",
    "masked_array = ma.masked_array(a, mask=mask)\n",
    "print(\"Masked array:\", masked_array)\n",
    "print(\"Data without masked elements:\", masked_array.compressed())"
   ]
  },
  {
   "cell_type": "code",
   "execution_count": 8,
   "metadata": {},
   "outputs": [
    {
     "name": "stdout",
     "output_type": "stream",
     "text": [
      "Extracted elements: [ 6  7  8  9 10]\n"
     ]
    },
    {
     "data": {
      "text/plain": [
       "array([5, 5, 7, ..., 5, 5, 6], dtype=int32)"
      ]
     },
     "execution_count": 8,
     "metadata": {},
     "output_type": "execute_result"
    }
   ],
   "source": [
    "a = np.array([1, 2, 3, 4, 5, 6, 7, 8, 9, 10])\n",
    "\n",
    "# Extract elements greater than 5\n",
    "extracted_elements = np.extract(a > 5, a)\n",
    "print(\"Extracted elements:\", extracted_elements)\n",
    "# extraction will flatten the data extracted from the array\n",
    "b = np.random.randint(1, 10, (50, 50))\n",
    "np.extract(b >= 5, b)"
   ]
  }
 ],
 "metadata": {
  "kernelspec": {
   "display_name": "psc",
   "language": "python",
   "name": "python3"
  },
  "language_info": {
   "codemirror_mode": {
    "name": "ipython",
    "version": 3
   },
   "file_extension": ".py",
   "mimetype": "text/x-python",
   "name": "python",
   "nbconvert_exporter": "python",
   "pygments_lexer": "ipython3",
   "version": "3.11.9"
  }
 },
 "nbformat": 4,
 "nbformat_minor": 2
}
