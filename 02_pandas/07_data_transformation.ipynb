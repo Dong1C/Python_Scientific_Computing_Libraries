{
 "cells": [
  {
   "cell_type": "markdown",
   "metadata": {},
   "source": [
    "## 7. Data Transformation\n",
    "\n",
    "- **Renaming**: `rename()`\n",
    "- **Mapping and Applying Functions**: `apply()`, `map()`, `applymap()`\n",
    "- **Sorting**: `sort_values()`, `sort_index()`\n",
    "- **Reshaping**: `pivot()`, `pivot_table()`, `melt()`"
   ]
  },
  {
   "cell_type": "code",
   "execution_count": 1,
   "metadata": {},
   "outputs": [
    {
     "name": "stdout",
     "output_type": "stream",
     "text": [
      "Pandas Series with Custom Objects:\n",
      "0    CustomObject(name=A, value=10)\n",
      "1    CustomObject(name=B, value=20)\n",
      "2    CustomObject(name=C, value=30)\n",
      "dtype: object\n"
     ]
    }
   ],
   "source": [
    "import pandas as pd\n",
    "\n",
    "class CustomObject:\n",
    "    def __init__(self, name, value):\n",
    "        self.name = name\n",
    "        self.value = value\n",
    "\n",
    "    def __repr__(self):\n",
    "        return f\"CustomObject(name={self.name}, value={self.value})\"\n",
    "\n",
    "\n",
    "# Create instances of the custom class\n",
    "obj1 = CustomObject('A', 10)\n",
    "obj2 = CustomObject('B', 20)\n",
    "obj3 = CustomObject('C', 30)\n",
    "\n",
    "# Create a Pandas Series with these custom objects\n",
    "custom_series = pd.Series([obj1, obj2, obj3], dtype='object')\n",
    "\n",
    "print(\"Pandas Series with Custom Objects:\")\n",
    "print(custom_series)\n"
   ]
  },
  {
   "cell_type": "code",
   "execution_count": 2,
   "metadata": {},
   "outputs": [
    {
     "name": "stdout",
     "output_type": "stream",
     "text": [
      "\n",
      "First Object:\n",
      "CustomObject(name=A, value=10)\n",
      "\n",
      "Updated Series with Increased Values:\n",
      "0    CustomObject(name=A, value=15)\n",
      "1    CustomObject(name=B, value=25)\n",
      "2    CustomObject(name=C, value=35)\n",
      "dtype: object\n"
     ]
    }
   ],
   "source": [
    "# Accessing elements\n",
    "first_obj = custom_series[0]\n",
    "print(\"\\nFirst Object:\")\n",
    "print(first_obj)\n",
    "\n",
    "# Applying a function to each element\n",
    "def increase_value(custom_obj):\n",
    "    custom_obj.value += 5\n",
    "    return custom_obj\n",
    "\n",
    "updated_series = custom_series.apply(increase_value)\n",
    "\n",
    "print(\"\\nUpdated Series with Increased Values:\")\n",
    "print(updated_series)"
   ]
  },
  {
   "cell_type": "code",
   "execution_count": 3,
   "metadata": {},
   "outputs": [
    {
     "name": "stdout",
     "output_type": "stream",
     "text": [
      "\n",
      "DataFrame with Custom Objects:\n",
      "                       custom_col\n",
      "0  CustomObject(name=A, value=15)\n",
      "1  CustomObject(name=B, value=25)\n",
      "2  CustomObject(name=C, value=35)\n",
      "\n",
      "DataFrame with Updated Custom Objects:\n",
      "                       custom_col\n",
      "0  CustomObject(name=A, value=20)\n",
      "1  CustomObject(name=B, value=30)\n",
      "2  CustomObject(name=C, value=40)\n"
     ]
    }
   ],
   "source": [
    "# Create a DataFrame with a column of custom objects\n",
    "data = {'custom_col': [obj1, obj2, obj3]}\n",
    "df = pd.DataFrame(data)\n",
    "\n",
    "print(\"\\nDataFrame with Custom Objects:\")\n",
    "print(df)\n",
    "\n",
    "# Apply a function to a column of custom objects\n",
    "df['custom_col'] = df['custom_col'].apply(increase_value)\n",
    "\n",
    "print(\"\\nDataFrame with Updated Custom Objects:\")\n",
    "print(df)\n"
   ]
  },
  {
   "cell_type": "code",
   "execution_count": 3,
   "metadata": {},
   "outputs": [
    {
     "name": "stdout",
     "output_type": "stream",
     "text": [
      "  Full Name  Age     Location\n",
      "A     Alice   25     New York\n",
      "B       Bob   30  Los Angeles\n",
      "2   Charlie   35      Chicago\n",
      "3     David   40      Houston\n"
     ]
    }
   ],
   "source": [
    "import pandas as pd\n",
    "\n",
    "# Example DataFrame\n",
    "data = {'Name': ['Alice', 'Bob', 'Charlie', 'David'],\n",
    "        'Age': [25, 30, 35, 40],\n",
    "        'City': ['New York', 'Los Angeles', 'Chicago', 'Houston']}\n",
    "df = pd.DataFrame(data)\n",
    "\n",
    "# Renaming columns\n",
    "renamed_df = df.rename(columns={'Name': 'Full Name', 'City': 'Location'}, index={0: 'A', 1: 'B'})\n",
    "print(renamed_df)\n",
    "\n",
    "# Renaming rows\n",
    "# renamed_df = df.rename(index={0: 'A', 1: 'B'})\n",
    "# print(renamed_df)"
   ]
  },
  {
   "cell_type": "code",
   "execution_count": 11,
   "metadata": {},
   "outputs": [
    {
     "name": "stdout",
     "output_type": "stream",
     "text": [
      "      Name  Age         City  Age in 10 Years City Code\n",
      "0    ALICE   25     New York               35        NY\n",
      "1      BOB   30  Los Angeles               40        LA\n",
      "2  CHARLIE   35      Chicago               45       CHI\n",
      "3    DAVID   40      Houston               50       HOU\n",
      "      Name  Age         City  Age in 10 Years City Code\n",
      "0    ALICE   25     New York               35        NY\n",
      "1      BOB   30  Los Angeles               40        LA\n",
      "2  CHARLIE   35      Chicago               45       CHI\n",
      "3    DAVID   40      Houston               50       HOU\n"
     ]
    },
    {
     "data": {
      "text/html": [
       "<div>\n",
       "<style scoped>\n",
       "    .dataframe tbody tr th:only-of-type {\n",
       "        vertical-align: middle;\n",
       "    }\n",
       "\n",
       "    .dataframe tbody tr th {\n",
       "        vertical-align: top;\n",
       "    }\n",
       "\n",
       "    .dataframe thead th {\n",
       "        text-align: right;\n",
       "    }\n",
       "</style>\n",
       "<table border=\"1\" class=\"dataframe\">\n",
       "  <thead>\n",
       "    <tr style=\"text-align: right;\">\n",
       "      <th></th>\n",
       "      <th>Name</th>\n",
       "      <th>Age</th>\n",
       "      <th>City</th>\n",
       "      <th>Age in 10 Years</th>\n",
       "      <th>City Code</th>\n",
       "    </tr>\n",
       "  </thead>\n",
       "  <tbody>\n",
       "    <tr>\n",
       "      <th>0</th>\n",
       "      <td>ALICE</td>\n",
       "      <td>25</td>\n",
       "      <td>NEW YORK</td>\n",
       "      <td>35</td>\n",
       "      <td>NY</td>\n",
       "    </tr>\n",
       "    <tr>\n",
       "      <th>1</th>\n",
       "      <td>BOB</td>\n",
       "      <td>30</td>\n",
       "      <td>LOS ANGELES</td>\n",
       "      <td>40</td>\n",
       "      <td>LA</td>\n",
       "    </tr>\n",
       "    <tr>\n",
       "      <th>2</th>\n",
       "      <td>CHARLIE</td>\n",
       "      <td>35</td>\n",
       "      <td>CHICAGO</td>\n",
       "      <td>45</td>\n",
       "      <td>CHI</td>\n",
       "    </tr>\n",
       "    <tr>\n",
       "      <th>3</th>\n",
       "      <td>DAVID</td>\n",
       "      <td>40</td>\n",
       "      <td>HOUSTON</td>\n",
       "      <td>50</td>\n",
       "      <td>HOU</td>\n",
       "    </tr>\n",
       "  </tbody>\n",
       "</table>\n",
       "</div>"
      ],
      "text/plain": [
       "      Name  Age         City  Age in 10 Years City Code\n",
       "0    ALICE   25     NEW YORK               35        NY\n",
       "1      BOB   30  LOS ANGELES               40        LA\n",
       "2  CHARLIE   35      CHICAGO               45       CHI\n",
       "3    DAVID   40      HOUSTON               50       HOU"
      ]
     },
     "execution_count": 11,
     "metadata": {},
     "output_type": "execute_result"
    }
   ],
   "source": [
    "# Applying a function to a column\n",
    "df['Age in 10 Years'] = df['Age'].apply(lambda x: x + 10)\n",
    "print(df)\n",
    "\n",
    "# Applying a mapping to a column\n",
    "df['City Code'] = df['City'].map({'New York': 'NY', 'Los Angeles': 'LA', 'Chicago': 'CHI', 'Houston': 'HOU'})\n",
    "print(df)\n",
    "\n",
    "# Applying a function to every element\n",
    "df.loc[:, ['Name', 'City', 'City Code']] = df.loc[:, ['Name', 'City', 'City Code']].map(str.upper)\n",
    "df"
   ]
  },
  {
   "cell_type": "code",
   "execution_count": 23,
   "metadata": {},
   "outputs": [
    {
     "data": {
      "text/plain": [
       "Index(['2023-01-01', '2023-01-02'], dtype='object', name='Date')"
      ]
     },
     "execution_count": 23,
     "metadata": {},
     "output_type": "execute_result"
    }
   ],
   "source": [
    "# Example DataFrame\n",
    "data = {'Date': ['2023-01-01', '2023-01-01', '2023-01-02', '2023-01-02'],\n",
    "        'City': ['New York', 'Los Angeles', 'New York', 'Los Angeles'],\n",
    "        'Sales': [200, 150, 220, 130]}\n",
    "df = pd.DataFrame(data)\n",
    "\n",
    "# Pivoting data\n",
    "pivot_df = df.pivot(index='Date', columns='City', values='Sales')\n",
    "\n",
    "\n",
    "# Creating a pivot table\n",
    "pivot_table_df = df.pivot_table(index='Date', columns='City', values='Sales', aggfunc='sum')\n",
    "pivot_table_df.index\n"
   ]
  },
  {
   "cell_type": "code",
   "execution_count": 17,
   "metadata": {},
   "outputs": [
    {
     "name": "stdout",
     "output_type": "stream",
     "text": [
      "         Date  New York  Los Angeles\n",
      "0  2023-01-01       200          150\n",
      "1  2023-01-02       220          130\n",
      "         Date         City  Sales\n",
      "0  2023-01-01     New York    200\n",
      "1  2023-01-02     New York    220\n",
      "2  2023-01-01  Los Angeles    150\n",
      "3  2023-01-02  Los Angeles    130\n"
     ]
    },
    {
     "data": {
      "text/plain": [
       "(None, None)"
      ]
     },
     "execution_count": 17,
     "metadata": {},
     "output_type": "execute_result"
    }
   ],
   "source": [
    "# Example wide DataFrame\n",
    "wide_data = {'Date': ['2023-01-01', '2023-01-02'],\n",
    "             'New York': [200, 220],\n",
    "             'Los Angeles': [150, 130]}\n",
    "wide_df = pd.DataFrame(wide_data)\n",
    "\n",
    "# Melting data\n",
    "melted_df = pd.melt(wide_df, id_vars=['Date'], var_name='City', value_name='Sales')\n",
    "print(wide_df), print(melted_df)"
   ]
  },
  {
   "cell_type": "code",
   "execution_count": null,
   "metadata": {},
   "outputs": [],
   "source": []
  }
 ],
 "metadata": {
  "kernelspec": {
   "display_name": "psc",
   "language": "python",
   "name": "python3"
  },
  "language_info": {
   "codemirror_mode": {
    "name": "ipython",
    "version": 3
   },
   "file_extension": ".py",
   "mimetype": "text/x-python",
   "name": "python",
   "nbconvert_exporter": "python",
   "pygments_lexer": "ipython3",
   "version": "3.11.9"
  }
 },
 "nbformat": 4,
 "nbformat_minor": 2
}
