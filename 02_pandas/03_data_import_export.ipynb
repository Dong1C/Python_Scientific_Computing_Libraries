{
 "cells": [
  {
   "cell_type": "markdown",
   "metadata": {},
   "source": [
    "## 3. Data Import and Export\n",
    "\n",
    "- **CSV**: `read_csv`, `to_csv`\n",
    "- **Excel**: `read_excel`, `to_excel`\n",
    "- **SQL**: `read_sql`, `to_sql`\n",
    "- **JSON**: `read_json`, `to_json`\n",
    "- **Other Formats**: `read_html`, `read_pickle`, `to_pickle`"
   ]
  },
  {
   "cell_type": "code",
   "execution_count": null,
   "metadata": {
    "vscode": {
     "languageId": "plaintext"
    }
   },
   "outputs": [],
   "source": []
  }
 ],
 "metadata": {
  "language_info": {
   "name": "python"
  }
 },
 "nbformat": 4,
 "nbformat_minor": 2
}
