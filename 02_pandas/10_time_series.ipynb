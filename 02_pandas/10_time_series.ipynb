{
 "cells": [
  {
   "cell_type": "code",
   "execution_count": 4,
   "metadata": {},
   "outputs": [
    {
     "name": "stdout",
     "output_type": "stream",
     "text": [
      "DatetimeIndex(['2023-01-01', '2023-01-02', '2023-01-03', '2023-01-04',\n",
      "               '2023-01-05', '2023-01-06', '2023-01-07', '2023-01-08',\n",
      "               '2023-01-09', '2023-01-10'],\n",
      "              dtype='datetime64[ns]', freq='D')\n",
      "            Value\n",
      "2023-01-01      0\n",
      "2023-01-02      1\n",
      "2023-01-03      2\n",
      "2023-01-04      3\n",
      "2023-01-05      4\n",
      "2023-01-06      5\n",
      "2023-01-07      6\n",
      "2023-01-08      7\n",
      "2023-01-09      8\n",
      "2023-01-10      9\n"
     ]
    }
   ],
   "source": [
    "import pandas as pd\n",
    "\n",
    "# Generating a date range\n",
    "date_range = pd.date_range(start='2023-01-01', end='2023-01-10', freq='D')\n",
    "print(date_range)\n",
    "\n",
    "# Creating a DataFrame with the date range as the index\n",
    "df = pd.DataFrame({'Value': range(10)}, index=date_range)\n",
    "print(df)\n"
   ]
  },
  {
   "cell_type": "code",
   "execution_count": 6,
   "metadata": {},
   "outputs": [
    {
     "name": "stdout",
     "output_type": "stream",
     "text": [
      "            Value\n",
      "2023-01-31     45\n",
      "            Value\n",
      "2023-01-01    0.0\n",
      "2023-01-08    4.0\n",
      "2023-01-15    8.5\n"
     ]
    }
   ],
   "source": [
    "# Example DataFrame with daily frequency\n",
    "df = pd.DataFrame({'Value': range(10)}, index=pd.date_range(start='2023-01-01', periods=10, freq='D'))\n",
    "\n",
    "# Resampling to monthly frequency and computing the sum\n",
    "monthly_df = df.resample('ME').sum()\n",
    "print(monthly_df)\n",
    "\n",
    "# Resampling to weekly frequency and computing the mean\n",
    "weekly_df = df.resample('W').mean()\n",
    "print(weekly_df)"
   ]
  },
  {
   "cell_type": "code",
   "execution_count": 7,
   "metadata": {},
   "outputs": [
    {
     "name": "stdout",
     "output_type": "stream",
     "text": [
      "            Value\n",
      "2023-01-01    NaN\n",
      "2023-01-02    0.0\n",
      "2023-01-03    1.0\n",
      "2023-01-04    2.0\n",
      "2023-01-05    3.0\n",
      "2023-01-06    4.0\n",
      "2023-01-07    5.0\n",
      "2023-01-08    6.0\n",
      "2023-01-09    7.0\n",
      "2023-01-10    8.0\n",
      "            Value\n",
      "2023-01-01    1.0\n",
      "2023-01-02    2.0\n",
      "2023-01-03    3.0\n",
      "2023-01-04    4.0\n",
      "2023-01-05    5.0\n",
      "2023-01-06    6.0\n",
      "2023-01-07    7.0\n",
      "2023-01-08    8.0\n",
      "2023-01-09    9.0\n",
      "2023-01-10    NaN\n"
     ]
    }
   ],
   "source": [
    "# Example DataFrame with daily frequency\n",
    "df = pd.DataFrame({'Value': range(10)}, index=pd.date_range(start='2023-01-01', periods=10, freq='D'))\n",
    "\n",
    "# Shifting the data by one period\n",
    "shifted_df = df.shift(1)\n",
    "print(shifted_df)\n",
    "\n",
    "# Shifting the data backward by one period\n",
    "shifted_back_df = df.shift(-1)\n",
    "print(shifted_back_df)"
   ]
  },
  {
   "cell_type": "code",
   "execution_count": 8,
   "metadata": {},
   "outputs": [
    {
     "name": "stdout",
     "output_type": "stream",
     "text": [
      "            Value\n",
      "2023-01-01    NaN\n",
      "2023-01-02    NaN\n",
      "2023-01-03    1.0\n",
      "2023-01-04    2.0\n",
      "2023-01-05    3.0\n",
      "2023-01-06    4.0\n",
      "2023-01-07    5.0\n",
      "2023-01-08    6.0\n",
      "2023-01-09    7.0\n",
      "2023-01-10    8.0\n",
      "            Value\n",
      "2023-01-01    NaN\n",
      "2023-01-02    NaN\n",
      "2023-01-03    3.0\n",
      "2023-01-04    6.0\n",
      "2023-01-05    9.0\n",
      "2023-01-06   12.0\n",
      "2023-01-07   15.0\n",
      "2023-01-08   18.0\n",
      "2023-01-09   21.0\n",
      "2023-01-10   24.0\n"
     ]
    }
   ],
   "source": [
    "# Example DataFrame with daily frequency\n",
    "df = pd.DataFrame({'Value': range(10)}, index=pd.date_range(start='2023-01-01', periods=10, freq='D'))\n",
    "\n",
    "# Applying a rolling window of size 3 and computing the mean\n",
    "rolling_mean_df = df.rolling(window=3).mean()\n",
    "print(rolling_mean_df)\n",
    "\n",
    "# Applying a rolling window of size 3 and computing the sum\n",
    "rolling_sum_df = df.rolling(window=3).sum()\n",
    "print(rolling_sum_df)"
   ]
  },
  {
   "cell_type": "code",
   "execution_count": 9,
   "metadata": {},
   "outputs": [
    {
     "name": "stdout",
     "output_type": "stream",
     "text": [
      "            Value\n",
      "2023-01-01    0.0\n",
      "2023-01-02    0.5\n",
      "2023-01-03    1.0\n",
      "2023-01-04    1.5\n",
      "2023-01-05    2.0\n",
      "2023-01-06    2.5\n",
      "2023-01-07    3.0\n",
      "2023-01-08    3.5\n",
      "2023-01-09    4.0\n",
      "2023-01-10    4.5\n",
      "            Value\n",
      "2023-01-01    0.0\n",
      "2023-01-02    1.0\n",
      "2023-01-03    3.0\n",
      "2023-01-04    6.0\n",
      "2023-01-05   10.0\n",
      "2023-01-06   15.0\n",
      "2023-01-07   21.0\n",
      "2023-01-08   28.0\n",
      "2023-01-09   36.0\n",
      "2023-01-10   45.0\n"
     ]
    }
   ],
   "source": [
    "# Example DataFrame with daily frequency\n",
    "df = pd.DataFrame({'Value': range(10)}, index=pd.date_range(start='2023-01-01', periods=10, freq='D'))\n",
    "\n",
    "# Applying an expanding window and computing the mean\n",
    "expanding_mean_df = df.expanding().mean()\n",
    "print(expanding_mean_df)\n",
    "\n",
    "# Applying an expanding window and computing the sum\n",
    "expanding_sum_df = df.expanding().sum()\n",
    "print(expanding_sum_df)\n",
    "\n",
    "# [sum(a:=[j for j in range(i+1)]) / (i + 1) for i in range(10)]\n",
    "# sum([i for i in range(10)])"
   ]
  },
  {
   "cell_type": "code",
   "execution_count": null,
   "metadata": {},
   "outputs": [],
   "source": []
  }
 ],
 "metadata": {
  "kernelspec": {
   "display_name": "psc",
   "language": "python",
   "name": "python3"
  },
  "language_info": {
   "codemirror_mode": {
    "name": "ipython",
    "version": 3
   },
   "file_extension": ".py",
   "mimetype": "text/x-python",
   "name": "python",
   "nbconvert_exporter": "python",
   "pygments_lexer": "ipython3",
   "version": "3.11.9"
  }
 },
 "nbformat": 4,
 "nbformat_minor": 2
}
