{
 "cells": [
  {
   "cell_type": "code",
   "execution_count": 2,
   "metadata": {},
   "outputs": [
    {
     "name": "stdout",
     "output_type": "stream",
     "text": [
      "Series:\n",
      "0    1\n",
      "1    2\n",
      "2    3\n",
      "3    4\n",
      "4    5\n",
      "dtype: int64\n",
      "\n",
      "DataFrame:\n",
      "   A  B\n",
      "0  1  4\n",
      "1  2  5\n",
      "2  3  6\n"
     ]
    }
   ],
   "source": [
    "# several different types and classes in pandas\n",
    "import pandas as pd\n",
    "\n",
    "# Series: One-dimensional labeled array\n",
    "series = pd.Series([1, 2, 3, 4, 5])\n",
    "print(\"Series:\")\n",
    "print(series)\n",
    "\n",
    "# DataFrame: Two-dimensional, size-mutable, heterogeneous tabular data\n",
    "data = {'A': [1, 2, 3], 'B': [4, 5, 6]}\n",
    "df = pd.DataFrame(data)\n",
    "print(\"\\nDataFrame:\")\n",
    "print(df)\n"
   ]
  },
  {
   "cell_type": "code",
   "execution_count": 3,
   "metadata": {},
   "outputs": [
    {
     "name": "stdout",
     "output_type": "stream",
     "text": [
      "Sparse Series:\n",
      "0    0\n",
      "1    0\n",
      "2    1\n",
      "3    0\n",
      "4    2\n",
      "dtype: Sparse[int64, 0]\n"
     ]
    }
   ],
   "source": [
    "# Sparse type \n",
    "# will not store the 0 or NaN in the memory\n",
    "sparse_series = pd.Series([0, 0, 1, 0, 2], dtype='Sparse[int]')\n",
    "print(\"Sparse Series:\")\n",
    "print(sparse_series)"
   ]
  },
  {
   "cell_type": "code",
   "execution_count": 4,
   "metadata": {},
   "outputs": [
    {
     "name": "stdout",
     "output_type": "stream",
     "text": [
      "Datetime Series:\n",
      "0   2023-01-01\n",
      "1   2023-01-02\n",
      "2   2023-01-03\n",
      "dtype: datetime64[ns]\n",
      "\n",
      "Timedelta Series:\n",
      "0   1 days\n",
      "1   2 days\n",
      "2   3 days\n",
      "dtype: timedelta64[ns]\n",
      "\n",
      "Period Series:\n",
      "0    2023-01\n",
      "1    2023-02\n",
      "2    2023-03\n",
      "dtype: period[M]\n"
     ]
    }
   ],
   "source": [
    "# Datetime type\n",
    "datetime_series = pd.Series(pd.date_range('2023-01-01', periods=3, freq='D'))\n",
    "print(\"Datetime Series:\")\n",
    "print(datetime_series)\n",
    "\n",
    "# Timedelta type\n",
    "timedelta_series = pd.Series(pd.to_timedelta([1, 2, 3], unit='D'))\n",
    "print(\"\\nTimedelta Series:\")\n",
    "print(timedelta_series)\n",
    "\n",
    "# Period type\n",
    "period_series = pd.Series(pd.period_range('2023-01', periods=3, freq='M'))\n",
    "print(\"\\nPeriod Series:\")\n",
    "print(period_series)"
   ]
  },
  {
   "cell_type": "code",
   "execution_count": 7,
   "metadata": {},
   "outputs": [
    {
     "name": "stdout",
     "output_type": "stream",
     "text": [
      "Categorical Series:\n",
      "0     small\n",
      "1    medium\n",
      "2     large\n",
      "3    medium\n",
      "dtype: category\n",
      "Categories (3, object): ['large', 'medium', 'small']\n",
      "\n",
      "Memory Usage (Categorical):\n",
      "268\n",
      "\n",
      "Memory Usage (String):\n",
      "164\n"
     ]
    }
   ],
   "source": [
    "# Creating a categorical series\n",
    "category_series = pd.Series(['small', 'medium', 'large', 'medium'], dtype='category')\n",
    "\n",
    "print(\"Categorical Series:\")\n",
    "print(category_series)\n",
    "\n",
    "# Checking the memory usage\n",
    "print(\"\\nMemory Usage (Categorical):\")\n",
    "print(category_series.memory_usage())\n",
    "\n",
    "# Creating a string series for comparison\n",
    "string_series = pd.Series(['small', 'medium', 'large', 'medium'])\n",
    "\n",
    "print(\"\\nMemory Usage (String):\")\n",
    "print(string_series.memory_usage())\n"
   ]
  },
  {
   "cell_type": "code",
   "execution_count": 6,
   "metadata": {},
   "outputs": [
    {
     "name": "stdout",
     "output_type": "stream",
     "text": [
      "Object Series (Strings):\n",
      "0    a\n",
      "1    b\n",
      "2    c\n",
      "dtype: object\n"
     ]
    }
   ],
   "source": [
    "# Object type for strings\n",
    "object_series = pd.Series(['a', 'b', 'c'], dtype='object')\n",
    "print(\"Object Series (Strings):\")\n",
    "print(object_series)"
   ]
  },
  {
   "cell_type": "code",
   "execution_count": null,
   "metadata": {},
   "outputs": [],
   "source": []
  }
 ],
 "metadata": {
  "kernelspec": {
   "display_name": "psc",
   "language": "python",
   "name": "python3"
  },
  "language_info": {
   "codemirror_mode": {
    "name": "ipython",
    "version": 3
   },
   "file_extension": ".py",
   "mimetype": "text/x-python",
   "name": "python",
   "nbconvert_exporter": "python",
   "pygments_lexer": "ipython3",
   "version": "3.11.9"
  }
 },
 "nbformat": 4,
 "nbformat_minor": 2
}
