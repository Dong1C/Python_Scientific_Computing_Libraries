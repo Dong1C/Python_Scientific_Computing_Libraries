{
 "cells": [
  {
   "cell_type": "markdown",
   "metadata": {},
   "source": [
    "## 4. Data Inspection and Summarization\n",
    "\n",
    "- **Head and Tail**: `head()`, `tail()`\n",
    "- **Info**: `info()`\n",
    "- **Description**: `describe()`\n",
    "- **Shape and Size**: `shape`, `size`"
   ]
  },
  {
   "cell_type": "code",
   "execution_count": 1,
   "metadata": {},
   "outputs": [
    {
     "name": "stdout",
     "output_type": "stream",
     "text": [
      "<class 'pandas.core.frame.DataFrame'>\n",
      "RangeIndex: 65 entries, 0 to 64\n",
      "Data columns (total 3 columns):\n",
      " #   Column       Non-Null Count  Dtype \n",
      "---  ------       --------------  ----- \n",
      " 0   Table        65 non-null     object\n",
      " 1   Field        60 non-null     object\n",
      " 2   Description  65 non-null     object\n",
      "dtypes: object(3)\n",
      "memory usage: 1.7+ KB\n"
     ]
    }
   ],
   "source": [
    "import pandas as pd\n",
    "\n",
    "df = pd.read_csv('data_dictionary.csv')\n",
    "df.info()"
   ]
  },
  {
   "cell_type": "code",
   "execution_count": 2,
   "metadata": {},
   "outputs": [
    {
     "data": {
      "text/html": [
       "<div>\n",
       "<style scoped>\n",
       "    .dataframe tbody tr th:only-of-type {\n",
       "        vertical-align: middle;\n",
       "    }\n",
       "\n",
       "    .dataframe tbody tr th {\n",
       "        vertical-align: top;\n",
       "    }\n",
       "\n",
       "    .dataframe thead th {\n",
       "        text-align: right;\n",
       "    }\n",
       "</style>\n",
       "<table border=\"1\" class=\"dataframe\">\n",
       "  <thead>\n",
       "    <tr style=\"text-align: right;\">\n",
       "      <th></th>\n",
       "      <th>Table</th>\n",
       "      <th>Field</th>\n",
       "      <th>Description</th>\n",
       "    </tr>\n",
       "  </thead>\n",
       "  <tbody>\n",
       "    <tr>\n",
       "      <th>0</th>\n",
       "      <td>encounters</td>\n",
       "      <td>NaN</td>\n",
       "      <td>Patient encounter data</td>\n",
       "    </tr>\n",
       "    <tr>\n",
       "      <th>1</th>\n",
       "      <td>encounters</td>\n",
       "      <td>Id</td>\n",
       "      <td>Primary Key. Unique Identifier of the encounter.</td>\n",
       "    </tr>\n",
       "    <tr>\n",
       "      <th>2</th>\n",
       "      <td>encounters</td>\n",
       "      <td>Start</td>\n",
       "      <td>The date and time (iso8601 UTC Date (yyyy-MM-d...</td>\n",
       "    </tr>\n",
       "    <tr>\n",
       "      <th>3</th>\n",
       "      <td>encounters</td>\n",
       "      <td>Stop</td>\n",
       "      <td>The date and time (iso8601 UTC Date (yyyy-MM-d...</td>\n",
       "    </tr>\n",
       "    <tr>\n",
       "      <th>4</th>\n",
       "      <td>encounters</td>\n",
       "      <td>Patient</td>\n",
       "      <td>Foreign key to the Patient.</td>\n",
       "    </tr>\n",
       "  </tbody>\n",
       "</table>\n",
       "</div>"
      ],
      "text/plain": [
       "        Table    Field                                        Description\n",
       "0  encounters      NaN                             Patient encounter data\n",
       "1  encounters       Id   Primary Key. Unique Identifier of the encounter.\n",
       "2  encounters    Start  The date and time (iso8601 UTC Date (yyyy-MM-d...\n",
       "3  encounters     Stop  The date and time (iso8601 UTC Date (yyyy-MM-d...\n",
       "4  encounters  Patient                        Foreign key to the Patient."
      ]
     },
     "execution_count": 2,
     "metadata": {},
     "output_type": "execute_result"
    }
   ],
   "source": [
    "df.head()"
   ]
  },
  {
   "cell_type": "code",
   "execution_count": 3,
   "metadata": {},
   "outputs": [
    {
     "data": {
      "text/html": [
       "<div>\n",
       "<style scoped>\n",
       "    .dataframe tbody tr th:only-of-type {\n",
       "        vertical-align: middle;\n",
       "    }\n",
       "\n",
       "    .dataframe tbody tr th {\n",
       "        vertical-align: top;\n",
       "    }\n",
       "\n",
       "    .dataframe thead th {\n",
       "        text-align: right;\n",
       "    }\n",
       "</style>\n",
       "<table border=\"1\" class=\"dataframe\">\n",
       "  <thead>\n",
       "    <tr style=\"text-align: right;\">\n",
       "      <th></th>\n",
       "      <th>Table</th>\n",
       "      <th>Field</th>\n",
       "      <th>Description</th>\n",
       "    </tr>\n",
       "  </thead>\n",
       "  <tbody>\n",
       "    <tr>\n",
       "      <th>60</th>\n",
       "      <td>procedures</td>\n",
       "      <td>Code</td>\n",
       "      <td>Procedure code from SNOMED-CT</td>\n",
       "    </tr>\n",
       "    <tr>\n",
       "      <th>61</th>\n",
       "      <td>procedures</td>\n",
       "      <td>Description</td>\n",
       "      <td>Description of the procedure.</td>\n",
       "    </tr>\n",
       "    <tr>\n",
       "      <th>62</th>\n",
       "      <td>procedures</td>\n",
       "      <td>Base_Cost</td>\n",
       "      <td>The line item cost of the procedure.</td>\n",
       "    </tr>\n",
       "    <tr>\n",
       "      <th>63</th>\n",
       "      <td>procedures</td>\n",
       "      <td>ReasonCode</td>\n",
       "      <td>Diagnosis code from SNOMED-CT specifying why t...</td>\n",
       "    </tr>\n",
       "    <tr>\n",
       "      <th>64</th>\n",
       "      <td>procedures</td>\n",
       "      <td>ReasonDescription</td>\n",
       "      <td>Description of the reason code.</td>\n",
       "    </tr>\n",
       "  </tbody>\n",
       "</table>\n",
       "</div>"
      ],
      "text/plain": [
       "         Table              Field  \\\n",
       "60  procedures               Code   \n",
       "61  procedures        Description   \n",
       "62  procedures          Base_Cost   \n",
       "63  procedures         ReasonCode   \n",
       "64  procedures  ReasonDescription   \n",
       "\n",
       "                                          Description  \n",
       "60                      Procedure code from SNOMED-CT  \n",
       "61                      Description of the procedure.  \n",
       "62               The line item cost of the procedure.  \n",
       "63  Diagnosis code from SNOMED-CT specifying why t...  \n",
       "64                    Description of the reason code.  "
      ]
     },
     "execution_count": 3,
     "metadata": {},
     "output_type": "execute_result"
    }
   ],
   "source": [
    "df.tail()"
   ]
  },
  {
   "cell_type": "code",
   "execution_count": 4,
   "metadata": {},
   "outputs": [
    {
     "data": {
      "text/html": [
       "<div>\n",
       "<style scoped>\n",
       "    .dataframe tbody tr th:only-of-type {\n",
       "        vertical-align: middle;\n",
       "    }\n",
       "\n",
       "    .dataframe tbody tr th {\n",
       "        vertical-align: top;\n",
       "    }\n",
       "\n",
       "    .dataframe thead th {\n",
       "        text-align: right;\n",
       "    }\n",
       "</style>\n",
       "<table border=\"1\" class=\"dataframe\">\n",
       "  <thead>\n",
       "    <tr style=\"text-align: right;\">\n",
       "      <th></th>\n",
       "      <th>Table</th>\n",
       "      <th>Field</th>\n",
       "      <th>Description</th>\n",
       "    </tr>\n",
       "  </thead>\n",
       "  <tbody>\n",
       "    <tr>\n",
       "      <th>count</th>\n",
       "      <td>65</td>\n",
       "      <td>60</td>\n",
       "      <td>65</td>\n",
       "    </tr>\n",
       "    <tr>\n",
       "      <th>unique</th>\n",
       "      <td>5</td>\n",
       "      <td>40</td>\n",
       "      <td>60</td>\n",
       "    </tr>\n",
       "    <tr>\n",
       "      <th>top</th>\n",
       "      <td>patients</td>\n",
       "      <td>Id</td>\n",
       "      <td>Foreign key to the Patient.</td>\n",
       "    </tr>\n",
       "    <tr>\n",
       "      <th>freq</th>\n",
       "      <td>23</td>\n",
       "      <td>4</td>\n",
       "      <td>2</td>\n",
       "    </tr>\n",
       "  </tbody>\n",
       "</table>\n",
       "</div>"
      ],
      "text/plain": [
       "           Table Field                  Description\n",
       "count         65    60                           65\n",
       "unique         5    40                           60\n",
       "top     patients    Id  Foreign key to the Patient.\n",
       "freq          23     4                            2"
      ]
     },
     "execution_count": 4,
     "metadata": {},
     "output_type": "execute_result"
    }
   ],
   "source": [
    "df.describe()"
   ]
  },
  {
   "cell_type": "code",
   "execution_count": 9,
   "metadata": {},
   "outputs": [],
   "source": [
    "# first found that the category is just four types\n",
    "# then change the data type into the pandas.CategoricalDtype\n",
    "cate = pd.CategoricalDtype(df['Table'].unique())\n",
    "df['Table'] = df['Table'].astype(cate)"
   ]
  },
  {
   "cell_type": "code",
   "execution_count": 14,
   "metadata": {},
   "outputs": [
    {
     "data": {
      "text/plain": [
       "((65, 3), 195)"
      ]
     },
     "execution_count": 14,
     "metadata": {},
     "output_type": "execute_result"
    }
   ],
   "source": [
    "df.shape, df.size"
   ]
  },
  {
   "cell_type": "code",
   "execution_count": 18,
   "metadata": {},
   "outputs": [],
   "source": [
    "# grouping the data use the category\n",
    "grouped_data = df.groupby('Table', observed=True)['Field'].value_counts()"
   ]
  },
  {
   "cell_type": "code",
   "execution_count": 19,
   "metadata": {},
   "outputs": [
    {
     "data": {
      "text/plain": [
       "Table          Field              \n",
       "encounters     Base_Encounter_Cost    1\n",
       "               Code                   1\n",
       "               Description            1\n",
       "               EncounterClass         1\n",
       "               Id                     1\n",
       "               Organization           1\n",
       "               Patient                1\n",
       "               Payer                  1\n",
       "               Payer_Coverage         1\n",
       "               ReasonCode             1\n",
       "               ReasonDescription      1\n",
       "               Start                  1\n",
       "               Stop                   1\n",
       "               Total_Claim_Cost       1\n",
       "organizations  Address                1\n",
       "               City                   1\n",
       "               Id                     1\n",
       "               Lat                    1\n",
       "               Lon                    1\n",
       "               Name                   1\n",
       "               State                  1\n",
       "               Zip                    1\n",
       "patients       Address                1\n",
       "               BirthDate              1\n",
       "               BirthPlace             1\n",
       "               City                   1\n",
       "               County                 1\n",
       "               DeathDate              1\n",
       "               Ethnicity              1\n",
       "               FIPS County Code       1\n",
       "               First                  1\n",
       "               Gender                 1\n",
       "               Id                     1\n",
       "               Last                   1\n",
       "               Lat                    1\n",
       "               Lon                    1\n",
       "               Maiden                 1\n",
       "               Marital                1\n",
       "               Middle                 1\n",
       "               Prefix                 1\n",
       "               Race                   1\n",
       "               State                  1\n",
       "               Suffix                 1\n",
       "               Zip                    1\n",
       "payers         Address                1\n",
       "               City                   1\n",
       "               Id                     1\n",
       "               Name                   1\n",
       "               Phone                  1\n",
       "               State_Headquartered    1\n",
       "               Zip                    1\n",
       "procedures     Base_Cost              1\n",
       "               Code                   1\n",
       "               Description            1\n",
       "               Encounter              1\n",
       "               Patient                1\n",
       "               ReasonCode             1\n",
       "               ReasonDescription      1\n",
       "               Start                  1\n",
       "               Stop                   1\n",
       "Name: count, dtype: int64"
      ]
     },
     "execution_count": 19,
     "metadata": {},
     "output_type": "execute_result"
    }
   ],
   "source": [
    "grouped_data"
   ]
  },
  {
   "cell_type": "code",
   "execution_count": null,
   "metadata": {},
   "outputs": [],
   "source": []
  }
 ],
 "metadata": {
  "kernelspec": {
   "display_name": "psc",
   "language": "python",
   "name": "python3"
  },
  "language_info": {
   "codemirror_mode": {
    "name": "ipython",
    "version": 3
   },
   "file_extension": ".py",
   "mimetype": "text/x-python",
   "name": "python",
   "nbconvert_exporter": "python",
   "pygments_lexer": "ipython3",
   "version": "3.11.9"
  }
 },
 "nbformat": 4,
 "nbformat_minor": 2
}
