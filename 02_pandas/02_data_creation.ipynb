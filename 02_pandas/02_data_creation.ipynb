{
 "cells": [
  {
   "cell_type": "markdown",
   "metadata": {},
   "source": [
    "## Creation is about the rows(index) and columns"
   ]
  },
  {
   "cell_type": "code",
   "execution_count": 10,
   "metadata": {},
   "outputs": [
    {
     "name": "stdout",
     "output_type": "stream",
     "text": [
      "0    10\n",
      "1    20\n",
      "2    30\n",
      "3    40\n",
      "4    50\n",
      "dtype: int64\n"
     ]
    }
   ],
   "source": [
    "import pandas as pd\n",
    "import numpy as np\n",
    "\n",
    "# Creating a Series from a list\n",
    "data_list = [10, 20, 30, 40, 50]\n",
    "series_from_list = pd.Series(data_list)\n",
    "print(series_from_list)\n"
   ]
  },
  {
   "cell_type": "code",
   "execution_count": 11,
   "metadata": {},
   "outputs": [
    {
     "name": "stdout",
     "output_type": "stream",
     "text": [
      "a    10\n",
      "b    20\n",
      "c    30\n",
      "d    40\n",
      "e    50\n",
      "dtype: int64\n"
     ]
    }
   ],
   "source": [
    "# Creating a Series from a dictionary\n",
    "data_dict = {'a': 10, 'b': 20, 'c': 30, 'd': 40, 'e': 50}\n",
    "series_from_dict = pd.Series(data_dict)\n",
    "print(series_from_dict)\n"
   ]
  },
  {
   "cell_type": "code",
   "execution_count": 12,
   "metadata": {},
   "outputs": [
    {
     "name": "stdout",
     "output_type": "stream",
     "text": [
      "      Name  Age         City\n",
      "0    Alice   25     New York\n",
      "1      Bob   30  Los Angeles\n",
      "2  Charlie   35      Chicago\n",
      "3    David   40      Houston\n"
     ]
    }
   ],
   "source": [
    "# Creating a DataFrame from a dictionary of lists\n",
    "data = {\n",
    "    'Name': ['Alice', 'Bob', 'Charlie', 'David'],\n",
    "    'Age': [25, 30, 35, 40],\n",
    "    'City': ['New York', 'Los Angeles', 'Chicago', 'Houston']\n",
    "}\n",
    "df_from_dict_of_lists = pd.DataFrame(data)\n",
    "print(df_from_dict_of_lists)\n"
   ]
  },
  {
   "cell_type": "code",
   "execution_count": 13,
   "metadata": {},
   "outputs": [
    {
     "name": "stdout",
     "output_type": "stream",
     "text": [
      "      Name  Age         City\n",
      "0    Alice   25     New York\n",
      "1      Bob   30  Los Angeles\n",
      "2  Charlie   35      Chicago\n",
      "3    David   40      Houston\n"
     ]
    }
   ],
   "source": [
    "# Creating a DataFrame from a list of lists\n",
    "data_list_of_lists = [\n",
    "    ['Alice', 25, 'New York'],\n",
    "    ['Bob', 30, 'Los Angeles'],\n",
    "    ['Charlie', 35, 'Chicago'],\n",
    "    ['David', 40, 'Houston']\n",
    "]\n",
    "df_from_list_of_lists = pd.DataFrame(data_list_of_lists, columns=['Name', 'Age', 'City'])\n",
    "print(df_from_list_of_lists)\n"
   ]
  },
  {
   "cell_type": "code",
   "execution_count": 14,
   "metadata": {},
   "outputs": [
    {
     "name": "stdout",
     "output_type": "stream",
     "text": [
      "      Name Age         City\n",
      "0    Alice  25     New York\n",
      "1      Bob  30  Los Angeles\n",
      "2  Charlie  35      Chicago\n",
      "3    David  40      Houston\n"
     ]
    }
   ],
   "source": [
    "# Creating a DataFrame from a NumPy array\n",
    "data_array_for_df = np.array([\n",
    "    ['Alice', 25, 'New York'],\n",
    "    ['Bob', 30, 'Los Angeles'],\n",
    "    ['Charlie', 35, 'Chicago'],\n",
    "    ['David', 40, 'Houston']\n",
    "])\n",
    "df_from_array = pd.DataFrame(data_array_for_df, columns=['Name', 'Age', 'City'])\n",
    "print(df_from_array)\n"
   ]
  },
  {
   "cell_type": "code",
   "execution_count": null,
   "metadata": {},
   "outputs": [],
   "source": []
  }
 ],
 "metadata": {
  "kernelspec": {
   "display_name": "psc",
   "language": "python",
   "name": "python3"
  },
  "language_info": {
   "codemirror_mode": {
    "name": "ipython",
    "version": 3
   },
   "file_extension": ".py",
   "mimetype": "text/x-python",
   "name": "python",
   "nbconvert_exporter": "python",
   "pygments_lexer": "ipython3",
   "version": "3.11.9"
  }
 },
 "nbformat": 4,
 "nbformat_minor": 2
}
