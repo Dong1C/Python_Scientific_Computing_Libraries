{
 "cells": [
  {
   "cell_type": "markdown",
   "metadata": {},
   "source": [
    "# The generator context manager\n",
    "1. Gen to emit the signal for the contextmanager\n",
    "2. Done `yield` then the `__enter__` into the context\n",
    "3. Done running the func which is in the bracket\n",
    "4. Done `next(gen)` and `__exit__` the context\n"
   ]
  },
  {
   "cell_type": "code",
   "execution_count": 14,
   "metadata": {},
   "outputs": [
    {
     "name": "stdout",
     "output_type": "stream",
     "text": [
      "<generator object timethis at 0x00000209DE43D7B0>\n",
      "time: 0.10\n"
     ]
    }
   ],
   "source": [
    "import sys\n",
    "\n",
    "\n",
    "# add the generator into the contextmanager\n",
    "class GeneratorCM(object):\n",
    "\n",
    "    # initialize using the func(*args, **kwargs)\n",
    "    def __init__(self, gen):\n",
    "        self.gen = gen\n",
    "        print(self.gen)\n",
    "\n",
    "    # __enter__ call the (func(*args, **kwargs))'s next\n",
    "    def __enter__(self):\n",
    "        return next(self.gen)\n",
    "\n",
    "    def __exit__(self, etype, val, tb):\n",
    "        try:\n",
    "            if etype is None:\n",
    "                next(self.gen)\n",
    "            else:\n",
    "                self.gen.throw(etype, val, tb)\n",
    "            raise RuntimeError(\"Generator didn't stop\")\n",
    "        except StopIteration:\n",
    "            return True\n",
    "        except:\n",
    "            if sys.exc_info()[1] is not val:\n",
    "                raise\n",
    "\n",
    "\n",
    "# CM will receive the func and use 'GeneratorCM' to bracket the func\n",
    "def contextmanager(func):\n",
    "\n",
    "    def run(*args, **kwargs):\n",
    "        return GeneratorCM(func(*args, **kwargs))\n",
    "\n",
    "    return run\n",
    "\n",
    "\n",
    "import time\n",
    "\n",
    "\n",
    "# contextmanager\n",
    "@contextmanager\n",
    "def timethis():\n",
    "    start = time.time()\n",
    "    try:\n",
    "        yield\n",
    "    finally:\n",
    "        end = time.time()\n",
    "        print(f\"time: {end - start:.2f}\")\n",
    "        \n",
    "\n",
    "\n",
    "with timethis():\n",
    "    n = 1000000\n",
    "    while n > 0:\n",
    "        n -= 1"
   ]
  },
  {
   "cell_type": "code",
   "execution_count": null,
   "metadata": {},
   "outputs": [
    {
     "data": {
      "text/plain": [
       "203"
      ]
     },
     "metadata": {},
     "output_type": "display_data"
    }
   ],
   "source": [
    "# you can use random to generate a random number hitter\n",
    "import random \n",
    "\n",
    "def frange(minn, maxn):\n",
    "    while (x:=random.randint(minn, maxn)) != int(minn + (maxn - minn) // 2 ):\n",
    "        yield x\n",
    "\n",
    "[i for i in frange(1, 100)].__len__()"
   ]
  },
  {
   "cell_type": "code",
   "execution_count": 16,
   "metadata": {},
   "outputs": [
    {
     "name": "stdout",
     "output_type": "stream",
     "text": [
      "(0, Node(0))\n",
      "(1, Node(1))\n",
      "(2, Node(3))\n",
      "(2, Node(4))\n",
      "(1, Node(2))\n",
      "(2, Node(5))\n"
     ]
    }
   ],
   "source": [
    "class Node:\n",
    "    def __init__(self, value):\n",
    "        self._value = value\n",
    "        self._children = []\n",
    "\n",
    "    def __repr__(self):\n",
    "        return 'Node({!r})'.format(self._value)\n",
    "\n",
    "    def add_child(self, node):\n",
    "        self._children.append(node)\n",
    "\n",
    "    def __iter__(self):\n",
    "        return iter(self._children)\n",
    "\n",
    "    def depth_first(self, depth=0):\n",
    "        yield (depth, self)\n",
    "        for c in self:\n",
    "            yield from c.depth_first(depth + 1)\n",
    "\n",
    "root = Node(0)\n",
    "child1 = Node(1)\n",
    "child2 = Node(2)\n",
    "root.add_child(child1)\n",
    "root.add_child(child2)\n",
    "child1.add_child(Node(3))\n",
    "child1.add_child(Node(4))\n",
    "child2.add_child(Node(5))\n",
    "\n",
    "for n in root.depth_first():\n",
    "    print(n)\n"
   ]
  },
  {
   "cell_type": "code",
   "execution_count": 17,
   "metadata": {},
   "outputs": [
    {
     "name": "stdout",
     "output_type": "stream",
     "text": [
      "(0, Node(0))\n",
      "(1, Node(1))\n",
      "(2, Node(3))\n",
      "(2, Node(4))\n",
      "(1, Node(2))\n",
      "(2, Node(5))\n"
     ]
    }
   ],
   "source": [
    "# a way too complicated version \n",
    "# using the depthfirstiterator to manage the iteration\n",
    "class Node2:\n",
    "    def __init__(self, value):\n",
    "        self._value = value\n",
    "        self._children = []\n",
    "\n",
    "    def __repr__(self):\n",
    "        return 'Node({!r})'.format(self._value)\n",
    "\n",
    "    def add_child(self, node):\n",
    "        self._children.append(node)\n",
    "\n",
    "    def __iter__(self):\n",
    "        return iter(self._children)\n",
    "\n",
    "    def depth_first(self):\n",
    "        return DepthFirstIterator(self)\n",
    "\n",
    "\n",
    "class DepthFirstIterator(object):\n",
    "    '''\n",
    "    Depth-first traversal\n",
    "    '''\n",
    "\n",
    "    def __init__(self, start_node):\n",
    "        self._node = start_node\n",
    "        self._children_iter = None\n",
    "        self._child_iter = None\n",
    "\n",
    "    def __iter__(self):\n",
    "        return self\n",
    "\n",
    "    def __next__(self):\n",
    "        # Return myself if just started; create an iterator for children\n",
    "        if self._children_iter is None:\n",
    "            self._children_iter = iter(self._node)\n",
    "            return self._node\n",
    "        # If processing a child, return its next item\n",
    "        elif self._child_iter:\n",
    "            try:\n",
    "                nextchild = next(self._child_iter)\n",
    "                return nextchild\n",
    "            except StopIteration:\n",
    "                self._child_iter = None\n",
    "                return next(self)\n",
    "        # Advance to the next child and start its iteration\n",
    "        else:\n",
    "            self._child_iter = next(self._children_iter).depth_first()\n",
    "            return next(self)\n",
    "        \n",
    "root = Node(0)\n",
    "child1 = Node(1)\n",
    "child2 = Node(2)\n",
    "root.add_child(child1)\n",
    "root.add_child(child2)\n",
    "child1.add_child(Node(3))\n",
    "child1.add_child(Node(4))\n",
    "child2.add_child(Node(5))\n",
    "\n",
    "for n in root.depth_first():\n",
    "    print(n)\n"
   ]
  },
  {
   "cell_type": "code",
   "execution_count": 18,
   "metadata": {},
   "outputs": [
    {
     "name": "stdout",
     "output_type": "stream",
     "text": [
      "1\n",
      "2\n",
      "3\n",
      "4\n",
      "5\n",
      "6\n",
      "7\n",
      "8\n",
      "9\n",
      "10\n",
      "11\n",
      "12\n",
      "13\n",
      "14\n",
      "15\n",
      "16\n",
      "17\n",
      "18\n",
      "19\n",
      "20\n",
      "21\n",
      "22\n",
      "23\n",
      "24\n",
      "25\n",
      "26\n",
      "27\n",
      "28\n",
      "29\n",
      "30\n",
      "30\n",
      "29\n",
      "28\n",
      "27\n",
      "26\n",
      "25\n",
      "24\n",
      "23\n",
      "22\n",
      "21\n",
      "20\n",
      "19\n",
      "18\n",
      "17\n",
      "16\n",
      "15\n",
      "14\n",
      "13\n",
      "12\n",
      "11\n",
      "10\n",
      "9\n",
      "8\n",
      "7\n",
      "6\n",
      "5\n",
      "4\n",
      "3\n",
      "2\n",
      "1\n"
     ]
    }
   ],
   "source": [
    "# define the __reverse__(self) \n",
    "\n",
    "class Countdown:\n",
    "    def __init__(self, start):\n",
    "        self.start = start\n",
    "\n",
    "    # Forward iterator\n",
    "    def __iter__(self):\n",
    "        n = self.start\n",
    "        while n > 0:\n",
    "            yield n\n",
    "            n -= 1\n",
    "\n",
    "    # Reverse iterator\n",
    "    def __reversed__(self):\n",
    "        n = 1\n",
    "        while n <= self.start:\n",
    "            yield n\n",
    "            n += 1\n",
    "\n",
    "for rr in reversed(Countdown(30)):\n",
    "    print(rr)\n",
    "for rr in Countdown(30):\n",
    "    print(rr)\n"
   ]
  },
  {
   "cell_type": "code",
   "execution_count": 19,
   "metadata": {},
   "outputs": [
    {
     "name": "stdout",
     "output_type": "stream",
     "text": [
      "1\n",
      "2\n",
      "3\n",
      "4\n",
      "5\n",
      "6\n",
      "7\n",
      "8\n"
     ]
    }
   ],
   "source": [
    "from typing import Iterable\n",
    "\n",
    "def flatten(items, ignore_types=(str, bytes)):\n",
    "    for x in items:\n",
    "        if isinstance(x, Iterable) and not isinstance(x, ignore_types):\n",
    "            yield from flatten(x)\n",
    "        else:\n",
    "            yield x\n",
    "\n",
    "items = [1, 2, [3, 4, [5, 6], 7], 8]\n",
    "# Produces 1 2 3 4 5 6 7 8\n",
    "for x in flatten(items):\n",
    "    print(x)"
   ]
  },
  {
   "cell_type": "code",
   "execution_count": null,
   "metadata": {},
   "outputs": [
    {
     "data": {
      "text/plain": [
       "[1, 2, 4, 5, 6, 7, 10, 11]"
      ]
     },
     "metadata": {},
     "output_type": "display_data"
    }
   ],
   "source": [
    "# easier way to merge two files...\n",
    "import heapq\n",
    "\n",
    "a = [1, 4, 7, 10]\n",
    "b = [2, 5, 6, 11]\n",
    "list(heapq.merge(a, b))\n",
    "# with open('sorted_file_1', 'rt') as file1, \\\n",
    "#     open('sorted_file_2', 'rt') as file2, \\\n",
    "#     open('merged_file', 'wt') as outf:\n",
    "\n",
    "#     for line in heapq.merge(file1, file2):\n",
    "#         outf.write(line)"
   ]
  },
  {
   "cell_type": "code",
   "execution_count": null,
   "metadata": {},
   "outputs": [],
   "source": [
    "# iter will iterate the generator until it got the tag as \"\"\n",
    "import sys\n",
    "\n",
    "f = open(\"/etc/passwd\")\n",
    "for chunk in iter(lambda: f.read(10), \"\"):\n",
    "    n = sys.stdout.write(chunk)"
   ]
  }
 ],
 "metadata": {
  "kernelspec": {
   "display_name": "psc",
   "language": "python",
   "name": "python3"
  },
  "language_info": {
   "codemirror_mode": {
    "name": "ipython",
    "version": 3
   },
   "file_extension": ".py",
   "mimetype": "text/x-python",
   "name": "python",
   "nbconvert_exporter": "python",
   "pygments_lexer": "ipython3",
   "version": "3.11.9"
  }
 },
 "nbformat": 4,
 "nbformat_minor": 2
}
