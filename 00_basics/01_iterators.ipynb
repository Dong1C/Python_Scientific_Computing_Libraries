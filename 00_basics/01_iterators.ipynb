{
 "cells": [
  {
   "cell_type": "markdown",
   "metadata": {},
   "source": [
    "# Don't forget to use the coroutines the asynchronous features..."
   ]
  },
  {
   "cell_type": "code",
   "execution_count": 45,
   "metadata": {},
   "outputs": [
    {
     "name": "stdout",
     "output_type": "stream",
     "text": [
      "2\n",
      "3\n",
      "4\n",
      "5\n",
      "6\n",
      "7\n",
      "8\n",
      "9\n",
      "10\n",
      "11\n",
      "2\n",
      "3\n",
      "4\n",
      "5\n",
      "6\n",
      "7\n",
      "8\n",
      "9\n",
      "10\n",
      "11\n"
     ]
    }
   ],
   "source": [
    "\"\"\"\n",
    "    Obviously it's working like\n",
    "    1. __iter__ to create the iter\n",
    "    2. __next__ to call every time iteration...\n",
    "\"\"\"\n",
    "class iterclass:\n",
    "\n",
    "    def __iter__(self):\n",
    "        self.a = 1\n",
    "        return self\n",
    "\n",
    "    def __next__(self):\n",
    "        if self.a > 10:\n",
    "            raise StopIteration\n",
    "        self.a += 1\n",
    "        return self.a\n",
    "\n",
    "\n",
    "# test the iteration\n",
    "for i in iterclass():\n",
    "    print(i)\n",
    "\n",
    "# next(iterclass(), '') can get '' as EOF\n",
    "iters = iter(iterclass())\n",
    "while (a := next(iters, \"\")):\n",
    "    if a == \"\":\n",
    "        break\n",
    "    print(a)"
   ]
  },
  {
   "cell_type": "code",
   "execution_count": 54,
   "metadata": {},
   "outputs": [
    {
     "name": "stdout",
     "output_type": "stream",
     "text": [
      "Node(1)\n",
      "Node(2)\n",
      "yeah there is a Node(1)\n"
     ]
    }
   ],
   "source": [
    "# define the iterators for iterating the containers\n",
    "class Node:\n",
    "    def __init__(self, value):\n",
    "        self._value = value\n",
    "        self._children = []\n",
    "\n",
    "    def __repr__(self):\n",
    "        return 'Node({!r})'.format(self._value)\n",
    "\n",
    "    def add_child(self, node):\n",
    "        self._children.append(node)\n",
    "\n",
    "    def __iter__(self):\n",
    "        return iter(self._children)\n",
    "\n",
    "    def __getitem__(self, key):\n",
    "        return self._children[key]\n",
    "\n",
    "\n",
    "root = Node(0)\n",
    "child1 = Node(1)\n",
    "child2 = Node(2)\n",
    "root.add_child(child1)\n",
    "root.add_child(child2)\n",
    "# Outputs Node(1), Node(2)\n",
    "for ch in root:\n",
    "    print(ch)\n",
    "    \n",
    "\n",
    "if list(root)[1] in root:\n",
    "    print(\"yeah there is a Node(1)\")"
   ]
  },
  {
   "cell_type": "code",
   "execution_count": null,
   "metadata": {},
   "outputs": [],
   "source": []
  }
 ],
 "metadata": {
  "kernelspec": {
   "display_name": "psc",
   "language": "python",
   "name": "python3"
  },
  "language_info": {
   "codemirror_mode": {
    "name": "ipython",
    "version": 3
   },
   "file_extension": ".py",
   "mimetype": "text/x-python",
   "name": "python",
   "nbconvert_exporter": "python",
   "pygments_lexer": "ipython3",
   "version": "3.11.9"
  }
 },
 "nbformat": 4,
 "nbformat_minor": 2
}
