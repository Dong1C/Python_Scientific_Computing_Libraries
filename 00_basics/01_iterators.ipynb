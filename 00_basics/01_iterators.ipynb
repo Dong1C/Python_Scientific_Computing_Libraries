{
 "cells": [
  {
   "cell_type": "markdown",
   "metadata": {},
   "source": [
    "# Don't forget to use the coroutines the asynchronous features..."
   ]
  },
  {
   "cell_type": "code",
   "execution_count": 45,
   "metadata": {},
   "outputs": [
    {
     "name": "stdout",
     "output_type": "stream",
     "text": [
      "2\n",
      "3\n",
      "4\n",
      "5\n",
      "6\n",
      "7\n",
      "8\n",
      "9\n",
      "10\n",
      "11\n",
      "2\n",
      "3\n",
      "4\n",
      "5\n",
      "6\n",
      "7\n",
      "8\n",
      "9\n",
      "10\n",
      "11\n"
     ]
    }
   ],
   "source": [
    "\"\"\"\n",
    "    Obviously it's working like\n",
    "    1. __iter__ to create the iter\n",
    "    2. __next__ to call every iteration\n",
    "\"\"\"\n",
    "class iterclass:\n",
    "\n",
    "    def __iter__(self):\n",
    "        self.a = 1\n",
    "        return self\n",
    "\n",
    "    def __next__(self):\n",
    "        if self.a > 10:\n",
    "            raise StopIteration\n",
    "        self.a += 1\n",
    "        return self.a\n",
    "\n",
    "\n",
    "# test the iteration\n",
    "for i in iterclass():\n",
    "    print(i)\n",
    "\n",
    "# next(iterclass(), '') can get '' as EOF\n",
    "iters = iter(iterclass())\n",
    "while (a := next(iters, \"\")):\n",
    "    if a == \"\":\n",
    "        break\n",
    "    print(a)"
   ]
  },
  {
   "cell_type": "code",
   "execution_count": 56,
   "metadata": {},
   "outputs": [
    {
     "name": "stdout",
     "output_type": "stream",
     "text": [
      "Node(0)\n",
      "Node(1)\n",
      "Node(2)\n",
      "Node(3)\n",
      "Node(4)\n",
      "Node(5)\n",
      "Node(6)\n",
      "Node(7)\n",
      "Node(8)\n",
      "Node(9)\n",
      "yeah there is a Node(1)\n"
     ]
    },
    {
     "data": {
      "text/plain": [
       "[Node(1), Node(2), Node(3), Node(4)]"
      ]
     },
     "execution_count": 56,
     "metadata": {},
     "output_type": "execute_result"
    }
   ],
   "source": [
    "# define the iterators for iterating the containers\n",
    "class Node:\n",
    "    def __init__(self, value):\n",
    "        self._value = value\n",
    "        self._children = []\n",
    "\n",
    "    def __repr__(self):\n",
    "        return 'Node({!r})'.format(self._value)\n",
    "\n",
    "    def add_child(self, node):\n",
    "        self._children.append(node)\n",
    "\n",
    "    def __iter__(self):\n",
    "        return iter(self._children)\n",
    "\n",
    "    def __getitem__(self, key):\n",
    "        return self._children[key]\n",
    "\n",
    "\n",
    "root = Node(0)\n",
    "[root.add_child(Node(i)) for i in range(10)]\n",
    "# Outputs Node(1), Node(2)\n",
    "for ch in root:\n",
    "    print(ch)    \n",
    "\n",
    "if root[1] in root:\n",
    "    print(\"yeah there is a Node(1)\")\n",
    "    \n",
    "root[1: 5]"
   ]
  },
  {
   "cell_type": "code",
   "execution_count": null,
   "metadata": {},
   "outputs": [],
   "source": []
  }
 ],
 "metadata": {
  "kernelspec": {
   "display_name": "psc",
   "language": "python",
   "name": "python3"
  },
  "language_info": {
   "codemirror_mode": {
    "name": "ipython",
    "version": 3
   },
   "file_extension": ".py",
   "mimetype": "text/x-python",
   "name": "python",
   "nbconvert_exporter": "python",
   "pygments_lexer": "ipython3",
   "version": "3.11.9"
  }
 },
 "nbformat": 4,
 "nbformat_minor": 2
}
