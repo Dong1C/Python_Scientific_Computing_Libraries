{
 "cells": [
  {
   "cell_type": "code",
   "execution_count": null,
   "metadata": {},
   "outputs": [
    {
     "name": "stdout",
     "output_type": "stream",
     "text": [
      "{'self': <__main__.closure.<locals>.LocalIter object at 0x000001B25C65A710>}\n",
      "('self', <__main__.closure.<locals>.LocalIter object at 0x000001B25C65A710>)\n",
      "stop: \n",
      "\n"
     ]
    }
   ],
   "source": [
    "# some closure\n",
    "def closure():\n",
    "    class LocalIter:\n",
    "        def __iter__(self):\n",
    "            print(locals())\n",
    "            self.locals_iter = iter(locals().items())\n",
    "            return self\n",
    "\n",
    "        def __next__(self):\n",
    "            try:\n",
    "                return next(self.locals_iter)\n",
    "            except StopIteration as e:\n",
    "                print(f\"stop: {e}\")\n",
    "                raise e\n",
    "\n",
    "    it_local = iter(LocalIter())\n",
    "\n",
    "    def get_next():\n",
    "        nonlocal it_local\n",
    "        return (lambda a: next(a, \"\"))(it_local)\n",
    "\n",
    "    return get_next\n",
    "\n",
    "\n",
    "c = closure()\n",
    "print(c())  # First call\n",
    "print(c())  # Second call"
   ]
  }
 ],
 "metadata": {
  "language_info": {
   "name": "python"
  }
 },
 "nbformat": 4,
 "nbformat_minor": 2
}
