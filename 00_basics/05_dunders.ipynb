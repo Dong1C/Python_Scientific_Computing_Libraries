{
 "cells": [
  {
   "cell_type": "code",
   "execution_count": 6,
   "metadata": {},
   "outputs": [
    {
     "name": "stdout",
     "output_type": "stream",
     "text": [
      "Sorted using sorted(): [Person(name=Bob, age=25), Person(name=Alice, age=30), Person(name=Charlie, age=35)]\n",
      "Sorted using sorted() with lambda: [Person(name=Bob, age=25), Person(name=Alice, age=30), Person(name=Charlie, age=35)]\n",
      "Sorted using sort() method: [Person(name=Bob, age=25), Person(name=Alice, age=30), Person(name=Charlie, age=35)]\n",
      "time: 0.0009970664978027344\n"
     ]
    }
   ],
   "source": [
    "from contextlib import contextmanager\n",
    "\n",
    "@contextmanager\n",
    "def timeit():\n",
    "    \n",
    "    import time\n",
    "    start = time.time()\n",
    "    try:\n",
    "        yield\n",
    "    finally:\n",
    "        end = time.time()\n",
    "        print(f\"time: {end - start}\")\n",
    "\n",
    "\n",
    "class Person:\n",
    "    def __init__(self, name, age):\n",
    "        self.name = name\n",
    "        self.age = age\n",
    "\n",
    "    def __repr__(self):\n",
    "        return f\"Person(name={self.name}, age={self.age})\"\n",
    "    \n",
    "\n",
    "# Create a list of Person objects\n",
    "people = [\n",
    "    Person(\"Alice\", 30),\n",
    "    Person(\"Bob\", 25),\n",
    "    Person(\"Charlie\", 35)\n",
    "]\n",
    "\n",
    "# Define a key function to sort by age\n",
    "def get_age(person):\n",
    "    return person.age\n",
    "\n",
    "# Sort using the sorted() function\n",
    "sorted_people = sorted(people, key=get_age)\n",
    "\n",
    "# Alternatively, you can use a lambda function directly\n",
    "sorted_people_lambda = sorted(people, key=lambda person: person.age)\n",
    "\n",
    "# Or use the sort() method of the list\n",
    "people.sort(key=lambda person: person.age)\n",
    "\n",
    "# Output the sorted list\n",
    "\n",
    "with timeit():\n",
    "    print(\"Sorted using sorted():\", sorted_people)\n",
    "    print(\"Sorted using sorted() with lambda:\", sorted_people_lambda)\n",
    "    print(\"Sorted using sort() method:\", people)\n"
   ]
  },
  {
   "cell_type": "code",
   "execution_count": 7,
   "metadata": {},
   "outputs": [
    {
     "data": {
      "text/plain": [
       "['d:\\\\conda\\\\envs\\\\psc\\\\python311.zip',\n",
       " 'd:\\\\conda\\\\envs\\\\psc\\\\DLLs',\n",
       " 'd:\\\\conda\\\\envs\\\\psc\\\\Lib',\n",
       " 'd:\\\\conda\\\\envs\\\\psc',\n",
       " '',\n",
       " 'd:\\\\conda\\\\envs\\\\psc\\\\Lib\\\\site-packages',\n",
       " 'd:\\\\conda\\\\envs\\\\psc\\\\Lib\\\\site-packages\\\\win32',\n",
       " 'd:\\\\conda\\\\envs\\\\psc\\\\Lib\\\\site-packages\\\\win32\\\\lib',\n",
       " 'd:\\\\conda\\\\envs\\\\psc\\\\Lib\\\\site-packages\\\\Pythonwin']"
      ]
     },
     "execution_count": 7,
     "metadata": {},
     "output_type": "execute_result"
    }
   ],
   "source": []
  },
  {
   "cell_type": "code",
   "execution_count": null,
   "metadata": {},
   "outputs": [],
   "source": []
  },
  {
   "cell_type": "code",
   "execution_count": null,
   "metadata": {},
   "outputs": [],
   "source": []
  }
 ],
 "metadata": {
  "kernelspec": {
   "display_name": "psc",
   "language": "python",
   "name": "python3"
  },
  "language_info": {
   "codemirror_mode": {
    "name": "ipython",
    "version": 3
   },
   "file_extension": ".py",
   "mimetype": "text/x-python",
   "name": "python",
   "nbconvert_exporter": "python",
   "pygments_lexer": "ipython3",
   "version": "3.11.9"
  }
 },
 "nbformat": 4,
 "nbformat_minor": 2
}
