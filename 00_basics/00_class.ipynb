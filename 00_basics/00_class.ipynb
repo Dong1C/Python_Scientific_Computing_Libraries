{
 "cells": [
  {
   "cell_type": "markdown",
   "metadata": {},
   "source": [
    "# First Topic - how to write good class\n",
    "## Classmethod / Staticmethod / property / abcmethod\n",
    "\n",
    "<ul>\n",
    "    <li> Classmethod : make the function accept the cls and utilize the meta information... </li>\n",
    "    <li> Staticmethod : make the function static and can be called by class</li>\n",
    "    <li> property : set the function returning a property</li>\n",
    "    <li> abcmethod : abstract method for implementing later in the subclass</li>\n",
    "</ul>"
   ]
  },
  {
   "cell_type": "code",
   "execution_count": 5,
   "metadata": {},
   "outputs": [
    {
     "name": "stdout",
     "output_type": "stream",
     "text": [
      "{UUID('ea540444-397c-41b7-a908-af5999405d73'): <__main__.Dog object at 0x0000017E6AEF1C50>, UUID('e8998bf6-a5ad-4cda-a712-4dd62102e008'): <__main__.Cat object at 0x0000017E6AEF2F50>}\n",
      "Dog is barking!\n",
      "Dog is eating!\n",
      "{UUID('e8998bf6-a5ad-4cda-a712-4dd62102e008'): <__main__.Cat object at 0x0000017E6AEF2F50>}\n",
      "{}\n"
     ]
    }
   ],
   "source": [
    "\"\"\"\n",
    "    this is sample codes for the abstractmethod\n",
    "    features:\n",
    "        1. add the _meta_dict for the class\n",
    "        2. 2 abstractmethods to be implemented\n",
    "        3. 2 methods to manage the meta_dict \n",
    "\"\"\"\n",
    "\n",
    "from abc import ABC, abstractmethod\n",
    "import uuid\n",
    "\n",
    "\n",
    "class Animal(ABC):\n",
    "    _meta_dict = {}\n",
    "\n",
    "    def __init__(self):\n",
    "        self.uuid = uuid.uuid4()\n",
    "        type(self)._meta_dict[self.uuid] = self\n",
    "\n",
    "    @abstractmethod\n",
    "    def bark(self):\n",
    "        pass\n",
    "\n",
    "    @abstractmethod\n",
    "    def eat(self):\n",
    "        pass\n",
    "\n",
    "    def die(self):\n",
    "        type(self)._meta_dict.pop(self.uuid, None)\n",
    "\n",
    "\n",
    "# Example subclass\n",
    "class Dog(Animal):\n",
    "    def bark(self):\n",
    "        print(\"Dog is barking!\")\n",
    "\n",
    "    def eat(self):\n",
    "        print(\"Dog is eating!\")\n",
    "\n",
    "\n",
    "class Cat(Animal):\n",
    "    def bark(self):\n",
    "        print(\"Cat is barking!\")\n",
    "\n",
    "    def eat(self):\n",
    "        print(\"Cat is eating!\")\n",
    "\n",
    "\n",
    "# Usage\n",
    "dog = Dog()\n",
    "cat = Cat()\n",
    "print(Animal._meta_dict)  # {UUID: <__main__.Dog object at 0x...>}\n",
    "dog.bark()  # Output: Dog is barking!\n",
    "dog.eat()  # Output: Dog is eating!\n",
    "dog.die()\n",
    "\n",
    "print(Animal._meta_dict)  # {UUID: <__main__.Dog object at 0x...>}\n",
    "cat.die()\n",
    "print(Animal._meta_dict)  # {}"
   ]
  },
  {
   "cell_type": "code",
   "execution_count": null,
   "metadata": {},
   "outputs": [],
   "source": []
  }
 ],
 "metadata": {
  "kernelspec": {
   "display_name": "psc",
   "language": "python",
   "name": "python3"
  },
  "language_info": {
   "codemirror_mode": {
    "name": "ipython",
    "version": 3
   },
   "file_extension": ".py",
   "mimetype": "text/x-python",
   "name": "python",
   "nbconvert_exporter": "python",
   "pygments_lexer": "ipython3",
   "version": "3.11.9"
  }
 },
 "nbformat": 4,
 "nbformat_minor": 2
}
