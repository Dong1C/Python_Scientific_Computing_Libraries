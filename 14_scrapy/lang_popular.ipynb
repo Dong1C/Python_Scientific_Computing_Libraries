{
 "cells": [
  {
   "cell_type": "code",
   "execution_count": 2,
   "metadata": {},
   "outputs": [],
   "source": [
    "import os\n",
    "from bs4 import BeautifulSoup as bs\n",
    "import requests\n",
    "import numpy as np\n",
    "import pandas as pd\n",
    "import matplotlib.pyplot as plt"
   ]
  },
  {
   "cell_type": "code",
   "execution_count": null,
   "metadata": {},
   "outputs": [],
   "source": [
    "# scrape the html page\n",
    "headers = {\n",
    "    \"User-Agent\": \"Mozilla/5.0 (Windows NT 10.0; Win64; x64) AppleWebKit/537.36 (KHTML, like Gecko) Chrome/126.0.0.0 Safari/537.36\"\n",
    "}\n",
    "url = \"https://www.visualcapitalist.com/top-languages-spoken-in-the-world/\"\n",
    "\n",
    "\n",
    "def get_headers(url):\n",
    "    response = requests.head(url)\n",
    "    return response.headers\n",
    "\n",
    "\n",
    "resp = requests.get(url, headers=get_headers(url))\n",
    "print(resp)\n",
    "\n"
   ]
  },
  {
   "cell_type": "code",
   "execution_count": 13,
   "metadata": {},
   "outputs": [],
   "source": [
    "from selenium import webdriver\n",
    "from selenium.webdriver.common.by import By\n",
    "\n",
    "driver = webdriver.Chrome()\n",
    "driver.get(url)\n",
    "thead = driver.find_element(by=By.TAG_NAME, value='thead')\n",
    "tbody = driver.find_element(by=By.TAG_NAME, value='tbody')"
   ]
  },
  {
   "cell_type": "code",
   "execution_count": 22,
   "metadata": {},
   "outputs": [
    {
     "data": {
      "text/plain": [
       "Index(['Rank', 'Language', '# of Speakers (2023)'], dtype='object')"
      ]
     },
     "execution_count": 22,
     "metadata": {},
     "output_type": "execute_result"
    }
   ],
   "source": [
    "col_labels = pd.Index([i.text for i in thead.find_elements(by=By.TAG_NAME, value='th')])\n",
    "col_labels"
   ]
  },
  {
   "cell_type": "code",
   "execution_count": 21,
   "metadata": {},
   "outputs": [
    {
     "data": {
      "text/plain": [
       "[['1', 'English', '1,500,000,000'],\n",
       " ['2', 'Mandarin', '1,100,000,000'],\n",
       " ['3', 'Hindi', '609,500,000'],\n",
       " ['4', 'Spanish', '559,100,000'],\n",
       " ['5', 'French', '309,800,000'],\n",
       " ['6', 'Standard Arabic', '274,000,000'],\n",
       " ['7', 'Bengali', '272,800,000'],\n",
       " ['8', 'Portuguese', '263,600,000'],\n",
       " ['9', 'Russian', '255,000,000'],\n",
       " ['10', 'Urdu', '231,700,000'],\n",
       " ['11', 'Indonesian', '199,100,000'],\n",
       " ['12', 'German', '133,200,000']]"
      ]
     },
     "execution_count": 21,
     "metadata": {},
     "output_type": "execute_result"
    }
   ],
   "source": [
    "rows = [[i.text for i in j.find_elements(by=By.TAG_NAME, value='td')] for j in tbody.find_elements(by=By.TAG_NAME, value='tr')]\n",
    "rows"
   ]
  },
  {
   "cell_type": "code",
   "execution_count": 27,
   "metadata": {},
   "outputs": [],
   "source": [
    "df = pd.DataFrame(data=rows, columns=col_labels)\n",
    "df.set_index(keys='Rank', inplace=True)\n",
    "df.to_csv('lang_popular.csv')"
   ]
  },
  {
   "cell_type": "code",
   "execution_count": 29,
   "metadata": {},
   "outputs": [
    {
     "data": {
      "text/html": [
       "<div>\n",
       "<style scoped>\n",
       "    .dataframe tbody tr th:only-of-type {\n",
       "        vertical-align: middle;\n",
       "    }\n",
       "\n",
       "    .dataframe tbody tr th {\n",
       "        vertical-align: top;\n",
       "    }\n",
       "\n",
       "    .dataframe thead th {\n",
       "        text-align: right;\n",
       "    }\n",
       "</style>\n",
       "<table border=\"1\" class=\"dataframe\">\n",
       "  <thead>\n",
       "    <tr style=\"text-align: right;\">\n",
       "      <th></th>\n",
       "      <th>Language</th>\n",
       "      <th># of Speakers (2023)</th>\n",
       "    </tr>\n",
       "    <tr>\n",
       "      <th>Rank</th>\n",
       "      <th></th>\n",
       "      <th></th>\n",
       "    </tr>\n",
       "  </thead>\n",
       "  <tbody>\n",
       "    <tr>\n",
       "      <th>1</th>\n",
       "      <td>English</td>\n",
       "      <td>1,500,000,000</td>\n",
       "    </tr>\n",
       "    <tr>\n",
       "      <th>2</th>\n",
       "      <td>Mandarin</td>\n",
       "      <td>1,100,000,000</td>\n",
       "    </tr>\n",
       "    <tr>\n",
       "      <th>3</th>\n",
       "      <td>Hindi</td>\n",
       "      <td>609,500,000</td>\n",
       "    </tr>\n",
       "    <tr>\n",
       "      <th>4</th>\n",
       "      <td>Spanish</td>\n",
       "      <td>559,100,000</td>\n",
       "    </tr>\n",
       "    <tr>\n",
       "      <th>5</th>\n",
       "      <td>French</td>\n",
       "      <td>309,800,000</td>\n",
       "    </tr>\n",
       "    <tr>\n",
       "      <th>6</th>\n",
       "      <td>Standard Arabic</td>\n",
       "      <td>274,000,000</td>\n",
       "    </tr>\n",
       "    <tr>\n",
       "      <th>7</th>\n",
       "      <td>Bengali</td>\n",
       "      <td>272,800,000</td>\n",
       "    </tr>\n",
       "    <tr>\n",
       "      <th>8</th>\n",
       "      <td>Portuguese</td>\n",
       "      <td>263,600,000</td>\n",
       "    </tr>\n",
       "    <tr>\n",
       "      <th>9</th>\n",
       "      <td>Russian</td>\n",
       "      <td>255,000,000</td>\n",
       "    </tr>\n",
       "    <tr>\n",
       "      <th>10</th>\n",
       "      <td>Urdu</td>\n",
       "      <td>231,700,000</td>\n",
       "    </tr>\n",
       "    <tr>\n",
       "      <th>11</th>\n",
       "      <td>Indonesian</td>\n",
       "      <td>199,100,000</td>\n",
       "    </tr>\n",
       "    <tr>\n",
       "      <th>12</th>\n",
       "      <td>German</td>\n",
       "      <td>133,200,000</td>\n",
       "    </tr>\n",
       "  </tbody>\n",
       "</table>\n",
       "</div>"
      ],
      "text/plain": [
       "             Language # of Speakers (2023)\n",
       "Rank                                      \n",
       "1             English        1,500,000,000\n",
       "2            Mandarin        1,100,000,000\n",
       "3               Hindi          609,500,000\n",
       "4             Spanish          559,100,000\n",
       "5              French          309,800,000\n",
       "6     Standard Arabic          274,000,000\n",
       "7             Bengali          272,800,000\n",
       "8          Portuguese          263,600,000\n",
       "9             Russian          255,000,000\n",
       "10               Urdu          231,700,000\n",
       "11         Indonesian          199,100,000\n",
       "12             German          133,200,000"
      ]
     },
     "execution_count": 29,
     "metadata": {},
     "output_type": "execute_result"
    }
   ],
   "source": [
    "tmp = pd.read_csv('lang_popular.csv', header=0, index_col='Rank')\n",
    "tmp"
   ]
  }
 ],
 "metadata": {
  "kernelspec": {
   "display_name": "psc",
   "language": "python",
   "name": "python3"
  },
  "language_info": {
   "codemirror_mode": {
    "name": "ipython",
    "version": 3
   },
   "file_extension": ".py",
   "mimetype": "text/x-python",
   "name": "python",
   "nbconvert_exporter": "python",
   "pygments_lexer": "ipython3",
   "version": "3.11.9"
  }
 },
 "nbformat": 4,
 "nbformat_minor": 2
}
