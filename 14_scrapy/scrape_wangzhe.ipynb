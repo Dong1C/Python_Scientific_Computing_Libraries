{
 "cells": [
  {
   "cell_type": "code",
   "execution_count": 1,
   "metadata": {},
   "outputs": [],
   "source": [
    "import pandas as pd\n",
    "import selenium\n",
    "from selenium.webdriver.common.by import By "
   ]
  },
  {
   "cell_type": "code",
   "execution_count": 2,
   "metadata": {},
   "outputs": [
    {
     "name": "stderr",
     "output_type": "stream",
     "text": [
      "There was an error managing chromedriver (error sending request for url (https://googlechromelabs.github.io/chrome-for-testing/known-good-versions-with-downloads.json)); using driver found in the cache\n",
      "Error sending stats to Plausible: error sending request for url (https://plausible.io/api/event)\n"
     ]
    }
   ],
   "source": [
    "import selenium.webdriver\n",
    "\n",
    "base_url = \"https://pvp.qq.com/web201605/herolist.shtml\"\n",
    "driver = selenium.webdriver.Chrome()\n",
    "driver.get(base_url)"
   ]
  },
  {
   "cell_type": "code",
   "execution_count": 3,
   "metadata": {},
   "outputs": [
    {
     "data": {
      "text/plain": [
       "121"
      ]
     },
     "execution_count": 3,
     "metadata": {},
     "output_type": "execute_result"
    }
   ],
   "source": [
    "herolist_eles = driver.find_element(by=By.CLASS_NAME, value='herolist')\n",
    "herolist_eles = herolist_eles.find_elements(by=By.TAG_NAME, value='li')\n",
    "a = [(i.find_element(by=By.TAG_NAME, value='a'), i.find_element(by=By.TAG_NAME, value='img')) for i in herolist_eles]\n",
    "callback = lambda a: [a[0].text, a[0].get_attribute('href'), a[1].get_attribute('src')]\n",
    "a = [callback(i) for i in a]\n",
    "a.__len__()"
   ]
  },
  {
   "cell_type": "code",
   "execution_count": 4,
   "metadata": {},
   "outputs": [
    {
     "data": {
      "text/html": [
       "<div>\n",
       "<style scoped>\n",
       "    .dataframe tbody tr th:only-of-type {\n",
       "        vertical-align: middle;\n",
       "    }\n",
       "\n",
       "    .dataframe tbody tr th {\n",
       "        vertical-align: top;\n",
       "    }\n",
       "\n",
       "    .dataframe thead th {\n",
       "        text-align: right;\n",
       "    }\n",
       "</style>\n",
       "<table border=\"1\" class=\"dataframe\">\n",
       "  <thead>\n",
       "    <tr style=\"text-align: right;\">\n",
       "      <th></th>\n",
       "      <th></th>\n",
       "      <th>img_src</th>\n",
       "    </tr>\n",
       "    <tr>\n",
       "      <th>name</th>\n",
       "      <th>url</th>\n",
       "      <th></th>\n",
       "    </tr>\n",
       "  </thead>\n",
       "  <tbody>\n",
       "    <tr>\n",
       "      <th>元流之子(坦克)</th>\n",
       "      <th>https://pvp.qq.com/web201605/herodetail/yuanliuzhizi_tank.shtml</th>\n",
       "      <td>https://game.gtimg.cn/images/yxzj/img201606/he...</td>\n",
       "    </tr>\n",
       "    <tr>\n",
       "      <th>元流之子(法师)</th>\n",
       "      <th>https://pvp.qq.com/web201605/herodetail/yuanliuzhizi_magic.shtml</th>\n",
       "      <td>https://game.gtimg.cn/images/yxzj/img201606/he...</td>\n",
       "    </tr>\n",
       "    <tr>\n",
       "      <th>大司命</th>\n",
       "      <th>https://pvp.qq.com/web201605/herodetail/dasiming.shtml</th>\n",
       "      <td>https://game.gtimg.cn/images/yxzj/img201606/he...</td>\n",
       "    </tr>\n",
       "    <tr>\n",
       "      <th>敖隐</th>\n",
       "      <th>https://pvp.qq.com/web201605/herodetail/aoyin.shtml</th>\n",
       "      <td>https://game.gtimg.cn/images/yxzj/img201606/he...</td>\n",
       "    </tr>\n",
       "    <tr>\n",
       "      <th>海诺</th>\n",
       "      <th>https://pvp.qq.com/web201605/herodetail/hainuo.shtml</th>\n",
       "      <td>https://game.gtimg.cn/images/yxzj/img201606/he...</td>\n",
       "    </tr>\n",
       "  </tbody>\n",
       "</table>\n",
       "</div>"
      ],
      "text/plain": [
       "                                                                                                       img_src\n",
       "name     url                                                                                                  \n",
       "元流之子(坦克) https://pvp.qq.com/web201605/herodetail/yuanliu...  https://game.gtimg.cn/images/yxzj/img201606/he...\n",
       "元流之子(法师) https://pvp.qq.com/web201605/herodetail/yuanliu...  https://game.gtimg.cn/images/yxzj/img201606/he...\n",
       "大司命      https://pvp.qq.com/web201605/herodetail/dasimin...  https://game.gtimg.cn/images/yxzj/img201606/he...\n",
       "敖隐       https://pvp.qq.com/web201605/herodetail/aoyin.s...  https://game.gtimg.cn/images/yxzj/img201606/he...\n",
       "海诺       https://pvp.qq.com/web201605/herodetail/hainuo....  https://game.gtimg.cn/images/yxzj/img201606/he..."
      ]
     },
     "execution_count": 4,
     "metadata": {},
     "output_type": "execute_result"
    }
   ],
   "source": [
    "df = pd.DataFrame(data=a, columns=pd.Index(['name', 'url', 'img_src']))\n",
    "# df.set_index(keys='name', inplace=True)\n",
    "df.set_index(keys=['name', 'url'], inplace=True)\n",
    "df.to_csv('wangzheinfo.csv')\n",
    "df.head()"
   ]
  },
  {
   "cell_type": "code",
   "execution_count": 23,
   "metadata": {},
   "outputs": [
    {
     "data": {
      "text/plain": [
       "167"
      ]
     },
     "execution_count": 23,
     "metadata": {},
     "output_type": "execute_result"
    }
   ],
   "source": [
    "import requests\n",
    "from bs4 import BeautifulSoup as bs\n",
    "\n",
    "lol_url = \"https://www.leagueoflegends.com/en-sg/champions/\"\n",
    "resp = requests.get(\n",
    "    lol_url,\n",
    "    headers={\n",
    "        \"User-Agent\": \"Mozilla/5.0 (Windows NT 10.0; Win64; x64) AppleWebKit/537.36 (KHTML, like Gecko) Chrome/126.0.0.0 Safari/537.36\"\n",
    "    },\n",
    ")\n",
    "\n",
    "soup = bs(resp.text, \"html.parser\")\n",
    "soup.find(\"div\", class_=\"sc-e560e08e-0 hPhkGD\")\n",
    "eles = soup.find_all(\"a\", class_=\"sc-87e5609-0\")\n",
    "eles.__len__()"
   ]
  },
  {
   "cell_type": "code",
   "execution_count": 25,
   "metadata": {},
   "outputs": [
    {
     "name": "stdout",
     "output_type": "stream",
     "text": [
      "[<__main__.log object at 0x000001B3A1B81490>, <__main__.log object at 0x000001B3A0613110>, <__main__.log object at 0x000001B3A2AEDED0>, <__main__.log object at 0x000001B3A1B57850>, <__main__.log object at 0x000001B3A1B56E90>, <__main__.log object at 0x000001B3A253E2D0>, <__main__.log object at 0x000001B3A253DFD0>, <__main__.log object at 0x000001B3A253DE10>, <__main__.log object at 0x000001B3A3934450>, <__main__.log object at 0x000001B3A253D9D0>, <__main__.log object at 0x000001B3A39347D0>, <__main__.log object at 0x000001B3A28A6690>, <__main__.log object at 0x000001B3A28A4F10>, <__main__.log object at 0x000001B3A28A4190>, <__main__.log object at 0x000001B3A28A6050>, <__main__.log object at 0x000001B3A28A4490>, <__main__.log object at 0x000001B3A28A67D0>, <__main__.log object at 0x000001B3A28A4750>, <__main__.log object at 0x000001B3A28A4ED0>, <__main__.log object at 0x000001B3A28A6A90>, <__main__.log object at 0x000001B3A28A5690>, <__main__.log object at 0x000001B3A28A4A10>, <__main__.log object at 0x000001B3A28A5E90>, <__main__.log object at 0x000001B3A28A4D90>, <__main__.log object at 0x000001B3A022EE90>, <__main__.log object at 0x000001B3A022F050>, <__main__.log object at 0x000001B3A065E550>, <__main__.log object at 0x000001B3A065EDD0>, <__main__.log object at 0x000001B3A065EB10>, <__main__.log object at 0x000001B3A065DCD0>, <__main__.log object at 0x000001B3A065EB50>, <__main__.log object at 0x000001B3A065D650>, <__main__.log object at 0x000001B3A065EE90>, <__main__.log object at 0x000001B3A065F050>, <__main__.log object at 0x000001B3A065D8D0>, <__main__.log object at 0x000001B3A065ED10>, <__main__.log object at 0x000001B3A065DC90>, <__main__.log object at 0x000001B3A065F7D0>, <__main__.log object at 0x000001B3A065E710>, <__main__.log object at 0x000001B3A065C9D0>, <__main__.log object at 0x000001B3A065DFD0>, <__main__.log object at 0x000001B3A065EBD0>, <__main__.log object at 0x000001B3A065C590>, <__main__.log object at 0x000001B3A065CA90>, <__main__.log object at 0x000001B3A065EC90>, <__main__.log object at 0x000001B3A065D390>, <__main__.log object at 0x000001B3A065D250>, <__main__.log object at 0x000001B3A065CDD0>, <__main__.log object at 0x000001B3A065D450>, <__main__.log object at 0x000001B3A065FA90>, <__main__.log object at 0x000001B3A1B78F10>, <__main__.log object at 0x000001B3A1B7B290>, <__main__.log object at 0x000001B3A1B7B2D0>, <__main__.log object at 0x000001B3A1B7A4D0>, <__main__.log object at 0x000001B3A1B7B390>, <__main__.log object at 0x000001B3A1B7A510>, <__main__.log object at 0x000001B3A1B7AE50>, <__main__.log object at 0x000001B3A1B78110>, <__main__.log object at 0x000001B3A1B7B150>, <__main__.log object at 0x000001B3A1B79290>, <__main__.log object at 0x000001B3A1B7BD90>, <__main__.log object at 0x000001B3A1B7AA10>, <__main__.log object at 0x000001B3A1B7BC50>, <__main__.log object at 0x000001B3A1B7BA90>, <__main__.log object at 0x000001B3A1B7BCD0>, <__main__.log object at 0x000001B3A1B7BB50>, <__main__.log object at 0x000001B3A1B78D50>, <__main__.log object at 0x000001B3A1B7AED0>, <__main__.log object at 0x000001B3A1B788D0>, <__main__.log object at 0x000001B3A1B7BE90>, <__main__.log object at 0x000001B3A1B7B7D0>, <__main__.log object at 0x000001B3A27A9DD0>, <__main__.log object at 0x000001B3A27A88D0>, <__main__.log object at 0x000001B3A27A8310>, <__main__.log object at 0x000001B3A27AB650>, <__main__.log object at 0x000001B3A27A9590>, <__main__.log object at 0x000001B3A27A86D0>, <__main__.log object at 0x000001B3A27A84D0>, <__main__.log object at 0x000001B3A27A9110>, <__main__.log object at 0x000001B3A27AAAD0>, <__main__.log object at 0x000001B3A27AA1D0>, <__main__.log object at 0x000001B3A27A8C10>, <__main__.log object at 0x000001B3A27ABDD0>, <__main__.log object at 0x000001B3A27A8A50>, <__main__.log object at 0x000001B3A27A8710>, <__main__.log object at 0x000001B3A27AABD0>, <__main__.log object at 0x000001B3A27A8290>, <__main__.log object at 0x000001B3A27A9850>, <__main__.log object at 0x000001B3A27A8F50>, <__main__.log object at 0x000001B3A27A9190>, <__main__.log object at 0x000001B3A27AAD50>, <__main__.log object at 0x000001B3A27AB710>, <__main__.log object at 0x000001B3A27A82D0>, <__main__.log object at 0x000001B3A27AA190>, <__main__.log object at 0x000001B3A27A9D10>, <__main__.log object at 0x000001B3A27AAED0>, <__main__.log object at 0x000001B3A27AB190>, <__main__.log object at 0x000001B3A27A9F50>, <__main__.log object at 0x000001B3A27A8090>, <__main__.log object at 0x000001B3A27AB790>, <__main__.log object at 0x000001B3A27AA250>, <__main__.log object at 0x000001B3A27AA350>, <__main__.log object at 0x000001B3A27AB890>, <__main__.log object at 0x000001B3A27AB090>, <__main__.log object at 0x000001B3A27A8590>, <__main__.log object at 0x000001B3A27AB550>, <__main__.log object at 0x000001B3A27A9E90>, <__main__.log object at 0x000001B3A27AB110>, <__main__.log object at 0x000001B3A27AB210>, <__main__.log object at 0x000001B3A27A8E10>, <__main__.log object at 0x000001B3A27A8F90>, <__main__.log object at 0x000001B3A27AA3D0>, <__main__.log object at 0x000001B3A27AAF10>, <__main__.log object at 0x000001B3A27AA410>, <__main__.log object at 0x000001B3A27A9E50>, <__main__.log object at 0x000001B3A27AA650>, <__main__.log object at 0x000001B3A27AB610>, <__main__.log object at 0x000001B3A27A9E10>, <__main__.log object at 0x000001B3A27A9550>, <__main__.log object at 0x000001B3A27AB0D0>, <__main__.log object at 0x000001B3A27AAF90>]\n"
     ]
    }
   ],
   "source": [
    "# read the csv\n",
    "import csv\n",
    "\n",
    "class log:\n",
    "    \n",
    "    def __init__(self, name, url, img):\n",
    "        self.name = name\n",
    "        self.url = url\n",
    "        self.img = img\n",
    "\n",
    "    def __str__(self):\n",
    "        return f\"name: {self.name} \\nurl:{self.url}\\n\"\n",
    "    \n",
    "class log_manager:\n",
    "    \n",
    "    def __init__(self):\n",
    "        self.log_list = []\n",
    "\n",
    "    def __str__(self):\n",
    "        return f\"now in management: {len(self.log_list)}\"\n",
    "    \n",
    "    def __getitem__(self, key):\n",
    "        return log(self.log_list[key], \"\", \"\")\n",
    "    \n",
    "            \n",
    "    def trasform2dataframe(self):\n",
    "        return pd.DataFrame([[i.name, i.url, i.img] for i in self.log_list])\n",
    "        \n",
    "    def register(self, log):\n",
    "        self.log_list.append(log)\n",
    "    \n",
    "    def remove(self, index):\n",
    "        self.log_list.remove(index)\n",
    "    \n",
    "    def clear(self):\n",
    "        self.log_list.clear()\n",
    "        \n",
    "        \n",
    "    \n",
    "with open(\"wangzheinfo.csv\", \"r\") as f:\n",
    "    reader = csv.reader(f)\n",
    "    \n",
    "    logs = [log(*i)  for i in reader if i[0] != \"name\"]\n",
    "    # logs = logs[1:]\n",
    "    # logm = log_manager()\n",
    "    # for line in list(reader)[1:]:\n",
    "    #     logm.register(log(line[0], line[1], line[2]))\n",
    "    print(logs)\n",
    "\n",
    "    # print(logm.log_list[0])\n",
    "    # print(logm)\n",
    "    # print(logm[0])\n",
    "\n",
    "# df = logm.trasform2dataframe()\n",
    "# df\n",
    "        "
   ]
  },
  {
   "cell_type": "code",
   "execution_count": null,
   "metadata": {},
   "outputs": [],
   "source": []
  }
 ],
 "metadata": {
  "kernelspec": {
   "display_name": "psc",
   "language": "python",
   "name": "python3"
  },
  "language_info": {
   "codemirror_mode": {
    "name": "ipython",
    "version": 3
   },
   "file_extension": ".py",
   "mimetype": "text/x-python",
   "name": "python",
   "nbconvert_exporter": "python",
   "pygments_lexer": "ipython3",
   "version": "3.11.9"
  }
 },
 "nbformat": 4,
 "nbformat_minor": 2
}
