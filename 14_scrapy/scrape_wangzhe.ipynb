{
 "cells": [
  {
   "cell_type": "code",
   "execution_count": 2,
   "metadata": {},
   "outputs": [],
   "source": [
    "import pandas as pd\n",
    "import selenium\n",
    "from selenium.webdriver.common.by import By "
   ]
  },
  {
   "cell_type": "code",
   "execution_count": 3,
   "metadata": {},
   "outputs": [],
   "source": [
    "import selenium.webdriver\n",
    "\n",
    "base_url = \"https://pvp.qq.com/web201605/herolist.shtml\"\n",
    "driver = selenium.webdriver.Chrome()\n",
    "driver.get(base_url)"
   ]
  },
  {
   "cell_type": "code",
   "execution_count": 11,
   "metadata": {},
   "outputs": [
    {
     "data": {
      "text/plain": [
       "121"
      ]
     },
     "execution_count": 11,
     "metadata": {},
     "output_type": "execute_result"
    }
   ],
   "source": [
    "herolist_eles = driver.find_element(by=By.CLASS_NAME, value='herolist')\n",
    "herolist_eles = herolist_eles.find_elements(by=By.TAG_NAME, value='li')\n",
    "a = [(i.find_element(by=By.TAG_NAME, value='a'), i.find_element(by=By.TAG_NAME, value='img')) for i in herolist_eles]\n",
    "callback = lambda a: [a[0].text, a[0].get_attribute('href'), a[1].get_attribute('src')]\n",
    "a = [callback(i) for i in a]\n",
    "a.__len__()"
   ]
  },
  {
   "cell_type": "code",
   "execution_count": 18,
   "metadata": {},
   "outputs": [
    {
     "data": {
      "text/html": [
       "<div>\n",
       "<style scoped>\n",
       "    .dataframe tbody tr th:only-of-type {\n",
       "        vertical-align: middle;\n",
       "    }\n",
       "\n",
       "    .dataframe tbody tr th {\n",
       "        vertical-align: top;\n",
       "    }\n",
       "\n",
       "    .dataframe thead th {\n",
       "        text-align: right;\n",
       "    }\n",
       "</style>\n",
       "<table border=\"1\" class=\"dataframe\">\n",
       "  <thead>\n",
       "    <tr style=\"text-align: right;\">\n",
       "      <th></th>\n",
       "      <th></th>\n",
       "      <th>img_src</th>\n",
       "    </tr>\n",
       "    <tr>\n",
       "      <th>name</th>\n",
       "      <th>url</th>\n",
       "      <th></th>\n",
       "    </tr>\n",
       "  </thead>\n",
       "  <tbody>\n",
       "    <tr>\n",
       "      <th>元流之子(坦克)</th>\n",
       "      <th>https://pvp.qq.com/web201605/herodetail/yuanliuzhizi_tank.shtml</th>\n",
       "      <td>https://game.gtimg.cn/images/yxzj/img201606/he...</td>\n",
       "    </tr>\n",
       "    <tr>\n",
       "      <th>元流之子(法师)</th>\n",
       "      <th>https://pvp.qq.com/web201605/herodetail/yuanliuzhizi_magic.shtml</th>\n",
       "      <td>https://game.gtimg.cn/images/yxzj/img201606/he...</td>\n",
       "    </tr>\n",
       "    <tr>\n",
       "      <th>大司命</th>\n",
       "      <th>https://pvp.qq.com/web201605/herodetail/dasiming.shtml</th>\n",
       "      <td>https://game.gtimg.cn/images/yxzj/img201606/he...</td>\n",
       "    </tr>\n",
       "    <tr>\n",
       "      <th>敖隐</th>\n",
       "      <th>https://pvp.qq.com/web201605/herodetail/aoyin.shtml</th>\n",
       "      <td>https://game.gtimg.cn/images/yxzj/img201606/he...</td>\n",
       "    </tr>\n",
       "    <tr>\n",
       "      <th>海诺</th>\n",
       "      <th>https://pvp.qq.com/web201605/herodetail/hainuo.shtml</th>\n",
       "      <td>https://game.gtimg.cn/images/yxzj/img201606/he...</td>\n",
       "    </tr>\n",
       "  </tbody>\n",
       "</table>\n",
       "</div>"
      ],
      "text/plain": [
       "                                                                                                       img_src\n",
       "name     url                                                                                                  \n",
       "元流之子(坦克) https://pvp.qq.com/web201605/herodetail/yuanliu...  https://game.gtimg.cn/images/yxzj/img201606/he...\n",
       "元流之子(法师) https://pvp.qq.com/web201605/herodetail/yuanliu...  https://game.gtimg.cn/images/yxzj/img201606/he...\n",
       "大司命      https://pvp.qq.com/web201605/herodetail/dasimin...  https://game.gtimg.cn/images/yxzj/img201606/he...\n",
       "敖隐       https://pvp.qq.com/web201605/herodetail/aoyin.s...  https://game.gtimg.cn/images/yxzj/img201606/he...\n",
       "海诺       https://pvp.qq.com/web201605/herodetail/hainuo....  https://game.gtimg.cn/images/yxzj/img201606/he..."
      ]
     },
     "execution_count": 18,
     "metadata": {},
     "output_type": "execute_result"
    }
   ],
   "source": [
    "df = pd.DataFrame(data=a, columns=pd.Index(['name', 'url', 'img_src']))\n",
    "# df.set_index(keys='name', inplace=True)\n",
    "df.set_index(keys=['name', 'url'], inplace=True)\n",
    "df.to_csv('wangzheinfo.csv')\n",
    "df.head()"
   ]
  },
  {
   "cell_type": "code",
   "execution_count": 23,
   "metadata": {},
   "outputs": [
    {
     "data": {
      "text/plain": [
       "167"
      ]
     },
     "execution_count": 23,
     "metadata": {},
     "output_type": "execute_result"
    }
   ],
   "source": [
    "import requests\n",
    "from bs4 import BeautifulSoup as bs\n",
    "\n",
    "lol_url = \"https://www.leagueoflegends.com/en-sg/champions/\"\n",
    "resp = requests.get(\n",
    "    lol_url,\n",
    "    headers={\n",
    "        \"User-Agent\": \"Mozilla/5.0 (Windows NT 10.0; Win64; x64) AppleWebKit/537.36 (KHTML, like Gecko) Chrome/126.0.0.0 Safari/537.36\"\n",
    "    },\n",
    ")\n",
    "\n",
    "soup = bs(resp.text, \"html.parser\")\n",
    "soup.find(\"div\", class_=\"sc-e560e08e-0 hPhkGD\")\n",
    "eles = soup.find_all(\"a\", class_=\"sc-87e5609-0\")\n",
    "eles.__len__()"
   ]
  }
 ],
 "metadata": {
  "kernelspec": {
   "display_name": "psc",
   "language": "python",
   "name": "python3"
  },
  "language_info": {
   "codemirror_mode": {
    "name": "ipython",
    "version": 3
   },
   "file_extension": ".py",
   "mimetype": "text/x-python",
   "name": "python",
   "nbconvert_exporter": "python",
   "pygments_lexer": "ipython3",
   "version": "3.11.9"
  }
 },
 "nbformat": 4,
 "nbformat_minor": 2
}
