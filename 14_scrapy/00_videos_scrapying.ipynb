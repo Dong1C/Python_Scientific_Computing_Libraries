{
 "cells": [
  {
   "cell_type": "code",
   "execution_count": 1,
   "metadata": {},
   "outputs": [],
   "source": [
    "import json\n",
    "import requests\n",
    "import os\n",
    "import urllib.parse"
   ]
  },
  {
   "cell_type": "code",
   "execution_count": 2,
   "metadata": {},
   "outputs": [
    {
     "data": {
      "text/plain": [
       "{'link': '/vod/wuyizhidi/1-1.html',\n",
       " 'link_next': None,\n",
       " 'link_pre': None,\n",
       " 'url': '/m3u8/player/?vod=51509&pid=1&no=1&url=https%3A%2F%2Fikcdn01.ikzybf.com%2F20221008%2FXRC0vaXI%2Findex.m3u8',\n",
       " 'url_next': None,\n",
       " 'poster': 'https://webp.ykjljdcss.com/upload/movie/c/c6034bb52169e608.webp',\n",
       " 'adUrl': None,\n",
       " 'no': '1',\n",
       " 'vod': 51509}"
      ]
     },
     "execution_count": 2,
     "metadata": {},
     "output_type": "execute_result"
    }
   ],
   "source": [
    "json_str = '{\"link\":\"\\/vod\\/wuyizhidi\\/1-1.html\",\"link_next\":null,\"link_pre\":null,\"url\":\"\\/m3u8\\/player\\/?vod=51509\\u0026pid=1\\u0026no=1\\u0026url=https%3A%2F%2Fikcdn01.ikzybf.com%2F20221008%2FXRC0vaXI%2Findex.m3u8\",\"url_next\":null,\"poster\":\"https:\\/\\/webp.ykjljdcss.com\\/upload\\/movie\\/c\\/c6034bb52169e608.webp\",\"adUrl\":null,\"no\":\"1\",\"vod\":51509}'\n",
    "json_data = json.loads(json_str)\n",
    "json_data"
   ]
  },
  {
   "cell_type": "code",
   "execution_count": 3,
   "metadata": {},
   "outputs": [
    {
     "data": {
      "text/plain": [
       "'https://ikcdn01.ikzybf.com/20221008/XRC0vaXI/2000kb/hls/index.m3u8'"
      ]
     },
     "execution_count": 3,
     "metadata": {},
     "output_type": "execute_result"
    }
   ],
   "source": [
    "# get the url which is encoded\n",
    "url_encoded = json_data['url'].split('url=')[-1]\n",
    "m3u8_url = urllib.parse.unquote(url_encoded)\n",
    "m3u8_url = urllib.parse.urlparse(m3u8_url)\n",
    "url_path = m3u8_url.path.split('/')\n",
    "url_path.insert(-1, '2000kb')\n",
    "url_path.insert(-1, 'hls')\n",
    "final_url = urllib.parse.urljoin(m3u8_url.geturl(), '/'.join(url_path)) \n",
    "final_url"
   ]
  },
  {
   "cell_type": "code",
   "execution_count": 5,
   "metadata": {},
   "outputs": [
    {
     "ename": "IndexError",
     "evalue": "list index out of range",
     "output_type": "error",
     "traceback": [
      "\u001b[1;31m---------------------------------------------------------------------------\u001b[0m",
      "\u001b[1;31mIndexError\u001b[0m                                Traceback (most recent call last)",
      "Cell \u001b[1;32mIn[5], line 22\u001b[0m\n\u001b[0;32m     20\u001b[0m response \u001b[38;5;241m=\u001b[39m session\u001b[38;5;241m.\u001b[39mget(final_url, headers\u001b[38;5;241m=\u001b[39mheaders)\n\u001b[0;32m     21\u001b[0m ts_urls \u001b[38;5;241m=\u001b[39m [urllib\u001b[38;5;241m.\u001b[39mparse\u001b[38;5;241m.\u001b[39murljoin(final_url, line\u001b[38;5;241m.\u001b[39mstrip()) \u001b[38;5;28;01mfor\u001b[39;00m line \u001b[38;5;129;01min\u001b[39;00m response\u001b[38;5;241m.\u001b[39mtext\u001b[38;5;241m.\u001b[39msplitlines() \u001b[38;5;28;01mif\u001b[39;00m line \u001b[38;5;129;01mand\u001b[39;00m \u001b[38;5;129;01mnot\u001b[39;00m line\u001b[38;5;241m.\u001b[39mstartswith(\u001b[38;5;124m\"\u001b[39m\u001b[38;5;124m#\u001b[39m\u001b[38;5;124m\"\u001b[39m)]\n\u001b[1;32m---> 22\u001b[0m ts_urls\u001b[38;5;241m.\u001b[39m\u001b[38;5;21m__len__\u001b[39m(), \u001b[43mts_urls\u001b[49m\u001b[43m[\u001b[49m\u001b[38;5;241;43m1\u001b[39;49m\u001b[43m]\u001b[49m\n",
      "\u001b[1;31mIndexError\u001b[0m: list index out of range"
     ]
    }
   ],
   "source": [
    "# open a session an request the m3u8 file\n",
    "session = requests.Session()\n",
    "headers = {\n",
    "    \"Accept\": \"*/*\",\n",
    "    \"Accept-Encoding\": \"gzip, deflate, br, zstd\",\n",
    "    \"Accept-Language\": \"zh-CN,zh;q=0.9,en;q=0.8\",\n",
    "    \"Connection\": \"keep-alive\",\n",
    "    \"Host\": \"ikcdn01.ikzybf.com\",\n",
    "    \"Origin\": \"https://www.7qhb.com\",\n",
    "    \"Referer\": \"https://www.7qhb.com/\",\n",
    "    \"Sec-Fetch-Dest\": \"empty\",\n",
    "    \"Sec-Fetch-Mode\": \"cors\",\n",
    "    \"Sec-Fetch-Site\": \"cross-site\",\n",
    "    \"User-Agent\": \"Mozilla/5.0 (Windows NT 10.0; Win64; x64) AppleWebKit/537.36 (KHTML, like Gecko) Chrome/126.0.0.0 Safari/537.36\",\n",
    "    \"sec-ch-ua\": '\"Not/A)Brand\";v=\"8\", \"Chromium\";v=\"126\", \"Google Chrome\";v=\"126\"',\n",
    "    \"sec-ch-ua-mobile\": \"?0\",\n",
    "    \"sec-ch-ua-platform\": '\"Windows\"',\n",
    "}\n",
    "\n",
    "response = session.get(final_url, headers=headers)\n",
    "ts_urls = [urllib.parse.urljoin(final_url, line.strip()) for line in response.text.splitlines() if line and not line.startswith(\"#\")]\n",
    "ts_urls.__len__(), ts_urls[1]"
   ]
  },
  {
   "cell_type": "code",
   "execution_count": null,
   "metadata": {},
   "outputs": [],
   "source": [
    "# we should use the concurrent to \n",
    "# write the best downloading program\n",
    "from concurrent.futures import ThreadPoolExecutor\n",
    "import ffmpeg\n",
    "import tempfile\n",
    "import io\n",
    "\n",
    "def download_ts_segment(url):\n",
    "    response = requests.get(url, stream=True)\n",
    "    response.raise_for_status()\n",
    "    return response.content\n",
    "\n",
    "def download_and_process_ts_files(ts_urls):\n",
    "    with ThreadPoolExecutor(max_workers=10) as executor:\n",
    "        ts_files = list(executor.map(download_ts_segment, ts_urls))\n",
    "    return ts_files\n",
    "\n",
    "def combine_ts_files(ts_files):\n",
    "    with tempfile.TemporaryDirectory() as tmpdirname:\n",
    "        print(tmpdirname)\n",
    "        input_files = []\n",
    "        for i, ts_file in enumerate(ts_files):\n",
    "            temp_file_path = f\"{tmpdirname}/segment{i}.ts\"\n",
    "            with open(temp_file_path, 'wb') as temp_file:\n",
    "                temp_file.write(ts_file)\n",
    "            input_files.append(temp_file_path)\n",
    "        \n",
    "        # Create a file containing the list of segment files\n",
    "        with open(f\"{tmpdirname}/file_list.txt\", 'w') as file_list:\n",
    "            for input_file in input_files:\n",
    "                file_list.write(f\"file '{input_file}'\\n\")\n",
    "        \n",
    "        # Combine the segments using ffmpeg\n",
    "        output_file_path = f\"{tmpdirname}/output_movie.mp4\"\n",
    "        ffmpeg.(f\"{tmpdirname}/file_list.txt\", format='concat', safe=0) \\\n",
    "              .output(output_file_path, vcodec='copy', acodec='copy') \\\n",
    "              .run()\n",
    "        \n",
    "        # Read the combined video into memory\n",
    "        with open(output_file_path, 'rb') as output_file:\n",
    "            combined_video = output_file.read()\n",
    "        \n",
    "        return combined_video"
   ]
  },
  {
   "cell_type": "code",
   "execution_count": null,
   "metadata": {},
   "outputs": [
    {
     "ename": "AttributeError",
     "evalue": "module 'ffmpeg' has no attribute 'input'",
     "output_type": "error",
     "traceback": [
      "\u001b[1;31m---------------------------------------------------------------------------\u001b[0m",
      "\u001b[1;31mAttributeError\u001b[0m                            Traceback (most recent call last)",
      "Cell \u001b[1;32mIn[60], line 2\u001b[0m\n\u001b[0;32m      1\u001b[0m ts_files \u001b[38;5;241m=\u001b[39m download_and_process_ts_files(ts_urls)\n\u001b[1;32m----> 2\u001b[0m combined_video \u001b[38;5;241m=\u001b[39m \u001b[43mcombine_ts_files\u001b[49m\u001b[43m(\u001b[49m\u001b[43mts_files\u001b[49m\u001b[43m)\u001b[49m\n\u001b[0;32m      4\u001b[0m \u001b[38;5;28;01mwith\u001b[39;00m \u001b[38;5;28mopen\u001b[39m(\u001b[38;5;124m\"\u001b[39m\u001b[38;5;124m无主之地.mp4\u001b[39m\u001b[38;5;124m\"\u001b[39m, \u001b[38;5;124m\"\u001b[39m\u001b[38;5;124mwb\u001b[39m\u001b[38;5;124m\"\u001b[39m) \u001b[38;5;28;01mas\u001b[39;00m output_file:\n\u001b[0;32m      5\u001b[0m     output_file\u001b[38;5;241m.\u001b[39mwrite(combined_video)\n",
      "Cell \u001b[1;32mIn[59], line 34\u001b[0m, in \u001b[0;36mcombine_ts_files\u001b[1;34m(ts_files)\u001b[0m\n\u001b[0;32m     32\u001b[0m \u001b[38;5;66;03m# Combine the segments using ffmpeg\u001b[39;00m\n\u001b[0;32m     33\u001b[0m output_file_path \u001b[38;5;241m=\u001b[39m \u001b[38;5;124mf\u001b[39m\u001b[38;5;124m\"\u001b[39m\u001b[38;5;132;01m{\u001b[39;00mtmpdirname\u001b[38;5;132;01m}\u001b[39;00m\u001b[38;5;124m/output_movie.mp4\u001b[39m\u001b[38;5;124m\"\u001b[39m\n\u001b[1;32m---> 34\u001b[0m \u001b[43mffmpeg\u001b[49m\u001b[38;5;241;43m.\u001b[39;49m\u001b[43minput\u001b[49m(\u001b[38;5;124mf\u001b[39m\u001b[38;5;124m\"\u001b[39m\u001b[38;5;132;01m{\u001b[39;00mtmpdirname\u001b[38;5;132;01m}\u001b[39;00m\u001b[38;5;124m/file_list.txt\u001b[39m\u001b[38;5;124m\"\u001b[39m, \u001b[38;5;28mformat\u001b[39m\u001b[38;5;241m=\u001b[39m\u001b[38;5;124m'\u001b[39m\u001b[38;5;124mconcat\u001b[39m\u001b[38;5;124m'\u001b[39m, safe\u001b[38;5;241m=\u001b[39m\u001b[38;5;241m0\u001b[39m) \\\n\u001b[0;32m     35\u001b[0m       \u001b[38;5;241m.\u001b[39moutput(output_file_path, vcodec\u001b[38;5;241m=\u001b[39m\u001b[38;5;124m'\u001b[39m\u001b[38;5;124mcopy\u001b[39m\u001b[38;5;124m'\u001b[39m, acodec\u001b[38;5;241m=\u001b[39m\u001b[38;5;124m'\u001b[39m\u001b[38;5;124mcopy\u001b[39m\u001b[38;5;124m'\u001b[39m) \\\n\u001b[0;32m     36\u001b[0m       \u001b[38;5;241m.\u001b[39mrun()\n\u001b[0;32m     38\u001b[0m \u001b[38;5;66;03m# Read the combined video into memory\u001b[39;00m\n\u001b[0;32m     39\u001b[0m \u001b[38;5;28;01mwith\u001b[39;00m \u001b[38;5;28mopen\u001b[39m(output_file_path, \u001b[38;5;124m'\u001b[39m\u001b[38;5;124mrb\u001b[39m\u001b[38;5;124m'\u001b[39m) \u001b[38;5;28;01mas\u001b[39;00m output_file:\n",
      "\u001b[1;31mAttributeError\u001b[0m: module 'ffmpeg' has no attribute 'input'"
     ]
    }
   ],
   "source": [
    "ts_files = download_and_process_ts_files(ts_urls)\n",
    "combined_video = combine_ts_files(ts_files)\n",
    "\n",
    "with open(\"无主之地.mp4\", \"wb\") as output_file:\n",
    "    output_file.write(combined_video)\n",
    "\n",
    "print(\"Downloaded and combined video saved as output_movie.mp4\")"
   ]
  },
  {
   "cell_type": "code",
   "execution_count": null,
   "metadata": {},
   "outputs": [
    {
     "data": {
      "text/plain": [
       "<TemporaryDirectory 'C:\\\\Users\\\\admin\\\\AppData\\\\Local\\\\Temp\\\\tmp9n6x0_2x'>"
      ]
     },
     "execution_count": 2,
     "metadata": {},
     "output_type": "execute_result"
    }
   ],
   "source": [
    "import tempfile\n",
    "tempfile.TemporaryDirectory()"
   ]
  },
  {
   "cell_type": "code",
   "execution_count": null,
   "metadata": {},
   "outputs": [],
   "source": []
  }
 ],
 "metadata": {
  "kernelspec": {
   "display_name": "psc",
   "language": "python",
   "name": "python3"
  },
  "language_info": {
   "codemirror_mode": {
    "name": "ipython",
    "version": 3
   },
   "file_extension": ".py",
   "mimetype": "text/x-python",
   "name": "python",
   "nbconvert_exporter": "python",
   "pygments_lexer": "ipython3",
   "version": "3.11.9"
  }
 },
 "nbformat": 4,
 "nbformat_minor": 2
}
